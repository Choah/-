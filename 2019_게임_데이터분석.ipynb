{
 "cells": [
  {
   "cell_type": "markdown",
   "metadata": {},
   "source": [
    "## 라인스튜디오 서류전형을 통과하신 여러분을 환영합니다!\n",
    "\n",
    "**\"라인 버블2\"** 게임의 **신규 가입 유저(NRU)** 데이터를 활용하여 Python을 통해 간단한 지표들을 추출해보려고 합니다.\n",
    "아래 문제들을 순서대로 풀어주세요.\n",
    "1. 개인정보 우려가 있는 유저키 값은 모두 제외되었습니다.\n",
    "2. 모든 수치 데이터는 재가공한 뒤 변수로 변경하여 제공 되었습니다."
   ]
  },
  {
   "cell_type": "markdown",
   "metadata": {},
   "source": [
    "**데이터 셋**\n",
    "\n",
    "* 파일 포맷: CSV\n",
    "* 샘플 수: 55,809건\n",
    "* feature 수: 22개\n",
    "    * 1: os 타입\n",
    "    * 2: 국가\n",
    "    * 3: 로그인 타입\n",
    "    * 4: D+1일차 접속여부\n",
    "    * 5: D+3일차 접속여부\n",
    "    * 6: D+5일차 접속여부\n",
    "    * 7: D+7일차 접속여부\n",
    "    * 8: D+9일차 접속여부\n",
    "    * 9: D+11일차 접속여부\n",
    "    * 10: D+14일차 접속여부\n",
    "    * 11: 최종 클리어 스테이지\n",
    "    * 12: 마지막으로 도전한 스테이지\n",
    "    * 13: 획득한 불꽃 총 개수\n",
    "    * 14: 사용한 불꽃 총 개수\n",
    "    * 15: 코인 교환에 사용한 루비량\n",
    "    * 16: 버디 슬롯 개방에 사용한 루비량\n",
    "    * 17: 에피소드 오픈에 사용한 루비량\n",
    "    * 18: 불꽃 충전에 사용한 루비량\n",
    "    * 19: 버디 뽑기(가챠)에 사용한 루비량\n",
    "    * 20: 스테이지 플레이에 필요한 아이템 구매에 사용한 루비량\n",
    "    * 21: 구매한 상품명\n",
    "    * 22: 구매 횟수\n",
    "    "
   ]
  },
  {
   "cell_type": "code",
   "execution_count": 62,
   "metadata": {},
   "outputs": [],
   "source": [
    "# import를 활용해 필요한 라이브러리 읽어오기\n",
    "import pandas as pd\n",
    "import numpy as np\n",
    "\n",
    "# 결과 창에서 에러 메시지 제거\n",
    "import warnings\n",
    "warnings.filterwarnings(action='ignore')\n",
    "\n",
    "# boxplot 그림\n",
    "import seaborn as sns\n",
    "import matplotlib.pyplot as plt  \n",
    "import matplotlib.font_manager as fm\n",
    "\n",
    "font_path = 'C:/Windows/Fonts/malgun.ttf'\n",
    "fontprop = fm.FontProperties(fname=font_path, size=18)\n",
    "\n",
    "sns.set_style(\"whitegrid\")\n",
    "\n",
    "# matplotlib\n",
    "from matplotlib import rc\n",
    "# y-axis in bold\n",
    "rc('font', weight='bold')\n",
    "\n",
    "# modeling\n",
    "from xgboost import XGBRegressor\n",
    "from sklearn.model_selection import train_test_split\n",
    "from sklearn.linear_model import LogisticRegression\n",
    "seed = 110\n",
    "np.random.seed(seed)"
   ]
  },
  {
   "cell_type": "code",
   "execution_count": 63,
   "metadata": {
    "scrolled": false
   },
   "outputs": [
    {
     "name": "stdout",
     "output_type": "stream",
     "text": [
      "(55809, 22)\n"
     ]
    },
    {
     "data": {
      "text/html": [
       "<div>\n",
       "<style scoped>\n",
       "    .dataframe tbody tr th:only-of-type {\n",
       "        vertical-align: middle;\n",
       "    }\n",
       "\n",
       "    .dataframe tbody tr th {\n",
       "        vertical-align: top;\n",
       "    }\n",
       "\n",
       "    .dataframe thead th {\n",
       "        text-align: right;\n",
       "    }\n",
       "</style>\n",
       "<table border=\"1\" class=\"dataframe\">\n",
       "  <thead>\n",
       "    <tr style=\"text-align: right;\">\n",
       "      <th></th>\n",
       "      <th>0</th>\n",
       "      <th>1</th>\n",
       "      <th>2</th>\n",
       "      <th>3</th>\n",
       "      <th>4</th>\n",
       "      <th>5</th>\n",
       "      <th>6</th>\n",
       "      <th>7</th>\n",
       "      <th>8</th>\n",
       "      <th>9</th>\n",
       "      <th>...</th>\n",
       "      <th>12</th>\n",
       "      <th>13</th>\n",
       "      <th>14</th>\n",
       "      <th>15</th>\n",
       "      <th>16</th>\n",
       "      <th>17</th>\n",
       "      <th>18</th>\n",
       "      <th>19</th>\n",
       "      <th>20</th>\n",
       "      <th>21</th>\n",
       "    </tr>\n",
       "  </thead>\n",
       "  <tbody>\n",
       "    <tr>\n",
       "      <th>0</th>\n",
       "      <td>Android</td>\n",
       "      <td>JP</td>\n",
       "      <td>LINE</td>\n",
       "      <td>0</td>\n",
       "      <td>0</td>\n",
       "      <td>0</td>\n",
       "      <td>0</td>\n",
       "      <td>0</td>\n",
       "      <td>0</td>\n",
       "      <td>0</td>\n",
       "      <td>...</td>\n",
       "      <td>41</td>\n",
       "      <td>41</td>\n",
       "      <td>0</td>\n",
       "      <td>0</td>\n",
       "      <td>0</td>\n",
       "      <td>0</td>\n",
       "      <td>0</td>\n",
       "      <td>32</td>\n",
       "      <td>NaN</td>\n",
       "      <td>NaN</td>\n",
       "    </tr>\n",
       "    <tr>\n",
       "      <th>1</th>\n",
       "      <td>Android</td>\n",
       "      <td>TH</td>\n",
       "      <td>LINE</td>\n",
       "      <td>1</td>\n",
       "      <td>0</td>\n",
       "      <td>0</td>\n",
       "      <td>0</td>\n",
       "      <td>0</td>\n",
       "      <td>0</td>\n",
       "      <td>0</td>\n",
       "      <td>...</td>\n",
       "      <td>12</td>\n",
       "      <td>8</td>\n",
       "      <td>0</td>\n",
       "      <td>0</td>\n",
       "      <td>0</td>\n",
       "      <td>0</td>\n",
       "      <td>0</td>\n",
       "      <td>0</td>\n",
       "      <td>NaN</td>\n",
       "      <td>NaN</td>\n",
       "    </tr>\n",
       "    <tr>\n",
       "      <th>2</th>\n",
       "      <td>iOS</td>\n",
       "      <td>TW</td>\n",
       "      <td>LINE</td>\n",
       "      <td>1</td>\n",
       "      <td>1</td>\n",
       "      <td>1</td>\n",
       "      <td>1</td>\n",
       "      <td>1</td>\n",
       "      <td>1</td>\n",
       "      <td>1</td>\n",
       "      <td>...</td>\n",
       "      <td>17</td>\n",
       "      <td>17</td>\n",
       "      <td>0</td>\n",
       "      <td>0</td>\n",
       "      <td>0</td>\n",
       "      <td>0</td>\n",
       "      <td>0</td>\n",
       "      <td>6</td>\n",
       "      <td>NaN</td>\n",
       "      <td>NaN</td>\n",
       "    </tr>\n",
       "    <tr>\n",
       "      <th>3</th>\n",
       "      <td>iOS</td>\n",
       "      <td>TW</td>\n",
       "      <td>LINE</td>\n",
       "      <td>0</td>\n",
       "      <td>0</td>\n",
       "      <td>0</td>\n",
       "      <td>0</td>\n",
       "      <td>0</td>\n",
       "      <td>0</td>\n",
       "      <td>0</td>\n",
       "      <td>...</td>\n",
       "      <td>5</td>\n",
       "      <td>0</td>\n",
       "      <td>0</td>\n",
       "      <td>0</td>\n",
       "      <td>0</td>\n",
       "      <td>0</td>\n",
       "      <td>0</td>\n",
       "      <td>0</td>\n",
       "      <td>NaN</td>\n",
       "      <td>NaN</td>\n",
       "    </tr>\n",
       "    <tr>\n",
       "      <th>4</th>\n",
       "      <td>iOS</td>\n",
       "      <td>TW</td>\n",
       "      <td>LINE</td>\n",
       "      <td>0</td>\n",
       "      <td>0</td>\n",
       "      <td>0</td>\n",
       "      <td>0</td>\n",
       "      <td>0</td>\n",
       "      <td>0</td>\n",
       "      <td>0</td>\n",
       "      <td>...</td>\n",
       "      <td>0</td>\n",
       "      <td>0</td>\n",
       "      <td>0</td>\n",
       "      <td>0</td>\n",
       "      <td>0</td>\n",
       "      <td>0</td>\n",
       "      <td>0</td>\n",
       "      <td>0</td>\n",
       "      <td>NaN</td>\n",
       "      <td>NaN</td>\n",
       "    </tr>\n",
       "  </tbody>\n",
       "</table>\n",
       "<p>5 rows × 22 columns</p>\n",
       "</div>"
      ],
      "text/plain": [
       "        0   1     2   3   4   5   6   7   8   9   ...  12  13  14  15  16  17  \\\n",
       "0  Android  JP  LINE   0   0   0   0   0   0   0  ...  41  41   0   0   0   0   \n",
       "1  Android  TH  LINE   1   0   0   0   0   0   0  ...  12   8   0   0   0   0   \n",
       "2      iOS  TW  LINE   1   1   1   1   1   1   1  ...  17  17   0   0   0   0   \n",
       "3      iOS  TW  LINE   0   0   0   0   0   0   0  ...   5   0   0   0   0   0   \n",
       "4      iOS  TW  LINE   0   0   0   0   0   0   0  ...   0   0   0   0   0   0   \n",
       "\n",
       "   18  19   20  21  \n",
       "0   0  32  NaN NaN  \n",
       "1   0   0  NaN NaN  \n",
       "2   0   6  NaN NaN  \n",
       "3   0   0  NaN NaN  \n",
       "4   0   0  NaN NaN  \n",
       "\n",
       "[5 rows x 22 columns]"
      ]
     },
     "execution_count": 63,
     "metadata": {},
     "output_type": "execute_result"
    }
   ],
   "source": [
    "# 데이터 로딩\n",
    "# 알맞은 경로를 지정해주세요\n",
    "data = pd.read_csv(\"line_studio_nru_data.csv\", sep=\",\", header=None)\n",
    "\n",
    "# data 변수에 할당된 데이터의 행렬 사이즈를 출력합니다.\n",
    "# 출력은 (row, column) 으로 표시됩니다.\n",
    "print(data.shape)\n",
    "\n",
    "# head()로 data 데이터의 상위 5개를 띄웁니다.\n",
    "data.head()"
   ]
  },
  {
   "cell_type": "code",
   "execution_count": 64,
   "metadata": {},
   "outputs": [
    {
     "data": {
      "text/html": [
       "<div>\n",
       "<style scoped>\n",
       "    .dataframe tbody tr th:only-of-type {\n",
       "        vertical-align: middle;\n",
       "    }\n",
       "\n",
       "    .dataframe tbody tr th {\n",
       "        vertical-align: top;\n",
       "    }\n",
       "\n",
       "    .dataframe thead th {\n",
       "        text-align: right;\n",
       "    }\n",
       "</style>\n",
       "<table border=\"1\" class=\"dataframe\">\n",
       "  <thead>\n",
       "    <tr style=\"text-align: right;\">\n",
       "      <th></th>\n",
       "      <th>1</th>\n",
       "      <th>2</th>\n",
       "      <th>3</th>\n",
       "      <th>4</th>\n",
       "      <th>5</th>\n",
       "      <th>6</th>\n",
       "      <th>7</th>\n",
       "      <th>8</th>\n",
       "      <th>9</th>\n",
       "      <th>10</th>\n",
       "      <th>...</th>\n",
       "      <th>13</th>\n",
       "      <th>14</th>\n",
       "      <th>15</th>\n",
       "      <th>16</th>\n",
       "      <th>17</th>\n",
       "      <th>18</th>\n",
       "      <th>19</th>\n",
       "      <th>20</th>\n",
       "      <th>21</th>\n",
       "      <th>22</th>\n",
       "    </tr>\n",
       "  </thead>\n",
       "  <tbody>\n",
       "    <tr>\n",
       "      <th>0</th>\n",
       "      <td>Android</td>\n",
       "      <td>JP</td>\n",
       "      <td>LINE</td>\n",
       "      <td>0</td>\n",
       "      <td>0</td>\n",
       "      <td>0</td>\n",
       "      <td>0</td>\n",
       "      <td>0</td>\n",
       "      <td>0</td>\n",
       "      <td>0</td>\n",
       "      <td>...</td>\n",
       "      <td>41</td>\n",
       "      <td>41</td>\n",
       "      <td>0</td>\n",
       "      <td>0</td>\n",
       "      <td>0</td>\n",
       "      <td>0</td>\n",
       "      <td>0</td>\n",
       "      <td>32</td>\n",
       "      <td>NaN</td>\n",
       "      <td>NaN</td>\n",
       "    </tr>\n",
       "    <tr>\n",
       "      <th>1</th>\n",
       "      <td>Android</td>\n",
       "      <td>TH</td>\n",
       "      <td>LINE</td>\n",
       "      <td>1</td>\n",
       "      <td>0</td>\n",
       "      <td>0</td>\n",
       "      <td>0</td>\n",
       "      <td>0</td>\n",
       "      <td>0</td>\n",
       "      <td>0</td>\n",
       "      <td>...</td>\n",
       "      <td>12</td>\n",
       "      <td>8</td>\n",
       "      <td>0</td>\n",
       "      <td>0</td>\n",
       "      <td>0</td>\n",
       "      <td>0</td>\n",
       "      <td>0</td>\n",
       "      <td>0</td>\n",
       "      <td>NaN</td>\n",
       "      <td>NaN</td>\n",
       "    </tr>\n",
       "    <tr>\n",
       "      <th>2</th>\n",
       "      <td>iOS</td>\n",
       "      <td>TW</td>\n",
       "      <td>LINE</td>\n",
       "      <td>1</td>\n",
       "      <td>1</td>\n",
       "      <td>1</td>\n",
       "      <td>1</td>\n",
       "      <td>1</td>\n",
       "      <td>1</td>\n",
       "      <td>1</td>\n",
       "      <td>...</td>\n",
       "      <td>17</td>\n",
       "      <td>17</td>\n",
       "      <td>0</td>\n",
       "      <td>0</td>\n",
       "      <td>0</td>\n",
       "      <td>0</td>\n",
       "      <td>0</td>\n",
       "      <td>6</td>\n",
       "      <td>NaN</td>\n",
       "      <td>NaN</td>\n",
       "    </tr>\n",
       "    <tr>\n",
       "      <th>3</th>\n",
       "      <td>iOS</td>\n",
       "      <td>TW</td>\n",
       "      <td>LINE</td>\n",
       "      <td>0</td>\n",
       "      <td>0</td>\n",
       "      <td>0</td>\n",
       "      <td>0</td>\n",
       "      <td>0</td>\n",
       "      <td>0</td>\n",
       "      <td>0</td>\n",
       "      <td>...</td>\n",
       "      <td>5</td>\n",
       "      <td>0</td>\n",
       "      <td>0</td>\n",
       "      <td>0</td>\n",
       "      <td>0</td>\n",
       "      <td>0</td>\n",
       "      <td>0</td>\n",
       "      <td>0</td>\n",
       "      <td>NaN</td>\n",
       "      <td>NaN</td>\n",
       "    </tr>\n",
       "    <tr>\n",
       "      <th>4</th>\n",
       "      <td>iOS</td>\n",
       "      <td>TW</td>\n",
       "      <td>LINE</td>\n",
       "      <td>0</td>\n",
       "      <td>0</td>\n",
       "      <td>0</td>\n",
       "      <td>0</td>\n",
       "      <td>0</td>\n",
       "      <td>0</td>\n",
       "      <td>0</td>\n",
       "      <td>...</td>\n",
       "      <td>0</td>\n",
       "      <td>0</td>\n",
       "      <td>0</td>\n",
       "      <td>0</td>\n",
       "      <td>0</td>\n",
       "      <td>0</td>\n",
       "      <td>0</td>\n",
       "      <td>0</td>\n",
       "      <td>NaN</td>\n",
       "      <td>NaN</td>\n",
       "    </tr>\n",
       "  </tbody>\n",
       "</table>\n",
       "<p>5 rows × 22 columns</p>\n",
       "</div>"
      ],
      "text/plain": [
       "        1   2     3   4   5   6   7   8   9   10  ...  13  14  15  16  17  18  \\\n",
       "0  Android  JP  LINE   0   0   0   0   0   0   0  ...  41  41   0   0   0   0   \n",
       "1  Android  TH  LINE   1   0   0   0   0   0   0  ...  12   8   0   0   0   0   \n",
       "2      iOS  TW  LINE   1   1   1   1   1   1   1  ...  17  17   0   0   0   0   \n",
       "3      iOS  TW  LINE   0   0   0   0   0   0   0  ...   5   0   0   0   0   0   \n",
       "4      iOS  TW  LINE   0   0   0   0   0   0   0  ...   0   0   0   0   0   0   \n",
       "\n",
       "   19  20   21  22  \n",
       "0   0  32  NaN NaN  \n",
       "1   0   0  NaN NaN  \n",
       "2   0   6  NaN NaN  \n",
       "3   0   0  NaN NaN  \n",
       "4   0   0  NaN NaN  \n",
       "\n",
       "[5 rows x 22 columns]"
      ]
     },
     "execution_count": 64,
     "metadata": {},
     "output_type": "execute_result"
    }
   ],
   "source": [
    "# data 변수명 feature 수에 맞게 rename\n",
    "data.columns=[1,2,3,4,5,6,7,8,9,10,11,12,13,14,15,16,17,18,19,20,21,22]\n",
    "data.head()"
   ]
  },
  {
   "cell_type": "code",
   "execution_count": 65,
   "metadata": {
    "scrolled": true
   },
   "outputs": [],
   "source": [
    "data=data.loc[data[2]=='JP']"
   ]
  },
  {
   "cell_type": "code",
   "execution_count": 73,
   "metadata": {},
   "outputs": [
    {
     "data": {
      "text/html": [
       "<div>\n",
       "<style scoped>\n",
       "    .dataframe tbody tr th:only-of-type {\n",
       "        vertical-align: middle;\n",
       "    }\n",
       "\n",
       "    .dataframe tbody tr th {\n",
       "        vertical-align: top;\n",
       "    }\n",
       "\n",
       "    .dataframe thead th {\n",
       "        text-align: right;\n",
       "    }\n",
       "</style>\n",
       "<table border=\"1\" class=\"dataframe\">\n",
       "  <thead>\n",
       "    <tr style=\"text-align: right;\">\n",
       "      <th></th>\n",
       "      <th>D+</th>\n",
       "      <th>retention</th>\n",
       "    </tr>\n",
       "  </thead>\n",
       "  <tbody>\n",
       "    <tr>\n",
       "      <th>0</th>\n",
       "      <td>4</td>\n",
       "      <td>0.4083</td>\n",
       "    </tr>\n",
       "    <tr>\n",
       "      <th>1</th>\n",
       "      <td>5</td>\n",
       "      <td>0.2831</td>\n",
       "    </tr>\n",
       "    <tr>\n",
       "      <th>2</th>\n",
       "      <td>6</td>\n",
       "      <td>0.2473</td>\n",
       "    </tr>\n",
       "    <tr>\n",
       "      <th>3</th>\n",
       "      <td>7</td>\n",
       "      <td>0.2307</td>\n",
       "    </tr>\n",
       "    <tr>\n",
       "      <th>4</th>\n",
       "      <td>8</td>\n",
       "      <td>0.2102</td>\n",
       "    </tr>\n",
       "    <tr>\n",
       "      <th>5</th>\n",
       "      <td>9</td>\n",
       "      <td>0.1963</td>\n",
       "    </tr>\n",
       "    <tr>\n",
       "      <th>6</th>\n",
       "      <td>10</td>\n",
       "      <td>0.1891</td>\n",
       "    </tr>\n",
       "  </tbody>\n",
       "</table>\n",
       "</div>"
      ],
      "text/plain": [
       "   D+  retention\n",
       "0   4     0.4083\n",
       "1   5     0.2831\n",
       "2   6     0.2473\n",
       "3   7     0.2307\n",
       "4   8     0.2102\n",
       "5   9     0.1963\n",
       "6  10     0.1891"
      ]
     },
     "execution_count": 73,
     "metadata": {},
     "output_type": "execute_result"
    }
   ],
   "source": [
    "retention=pd.DataFrame(round(data[[4,5,6,7,8,9,10]].sum()/len(data),4)).reset_index()\n",
    "retention.columns=['D+','retention']\n",
    "retention"
   ]
  },
  {
   "cell_type": "code",
   "execution_count": null,
   "metadata": {},
   "outputs": [],
   "source": []
  },
  {
   "cell_type": "markdown",
   "metadata": {},
   "source": [
    "### 1. 신규유저 기본 지표 분석\n",
    "\n",
    "우리 게임에 들어온 신규유저를 볼 때 가장 관심이 있는 지표는 **\"잔존율\"** 이라고 할 수 있습니다. 잔존율이란 신규 유저중 다음날, 그 다음날, 2주뒤, 1개월 뒤에도 우리 게임에 접속하였는지를 측정하는 지표이며, 리텐션(Retention)이라고도 합니다. 전체 가입 유저 중 D+N일차 이후에도 접속한 유저의 비율로 계산 가능합니다.\n",
    "\n",
    "\n",
    "**필요한 컬럼**\n",
    "* 1: os 타입\n",
    "* 4: D+1일차 접속여부\n",
    "* 5: D+3일차 접속여부\n",
    "* 6: D+5일차 접속여부\n",
    "* 7: D+7일차 접속여부\n",
    "* 8: D+9일차 접속여부\n",
    "* 9: D+11일차 접속여부\n",
    "* 10: D+14일차 접속여부\n",
    "* 11: 최종 클리어 스테이지\n",
    "\n",
    "    "
   ]
  },
  {
   "cell_type": "markdown",
   "metadata": {},
   "source": [
    "**1. 신규유저의 D+1, 3, 5, 7, 9, 11, 14 잔존율(Retention)을 계산해주세요.**\n",
    "\n",
    "(잔존율 = D+N 잔존유저수 / 전체 가입유저수)"
   ]
  },
  {
   "cell_type": "code",
   "execution_count": 5,
   "metadata": {
    "scrolled": true
   },
   "outputs": [
    {
     "data": {
      "text/html": [
       "<div>\n",
       "<style scoped>\n",
       "    .dataframe tbody tr th:only-of-type {\n",
       "        vertical-align: middle;\n",
       "    }\n",
       "\n",
       "    .dataframe tbody tr th {\n",
       "        vertical-align: top;\n",
       "    }\n",
       "\n",
       "    .dataframe thead th {\n",
       "        text-align: right;\n",
       "    }\n",
       "</style>\n",
       "<table border=\"1\" class=\"dataframe\">\n",
       "  <thead>\n",
       "    <tr style=\"text-align: right;\">\n",
       "      <th></th>\n",
       "      <th>D+</th>\n",
       "      <th>retention</th>\n",
       "    </tr>\n",
       "  </thead>\n",
       "  <tbody>\n",
       "    <tr>\n",
       "      <th>0</th>\n",
       "      <td>D+1</td>\n",
       "      <td>0.4083</td>\n",
       "    </tr>\n",
       "    <tr>\n",
       "      <th>1</th>\n",
       "      <td>D+3</td>\n",
       "      <td>0.2831</td>\n",
       "    </tr>\n",
       "    <tr>\n",
       "      <th>2</th>\n",
       "      <td>D+5</td>\n",
       "      <td>0.2473</td>\n",
       "    </tr>\n",
       "    <tr>\n",
       "      <th>3</th>\n",
       "      <td>D+7</td>\n",
       "      <td>0.2307</td>\n",
       "    </tr>\n",
       "    <tr>\n",
       "      <th>4</th>\n",
       "      <td>D+9</td>\n",
       "      <td>0.2102</td>\n",
       "    </tr>\n",
       "    <tr>\n",
       "      <th>5</th>\n",
       "      <td>D+11</td>\n",
       "      <td>0.1963</td>\n",
       "    </tr>\n",
       "    <tr>\n",
       "      <th>6</th>\n",
       "      <td>D+14</td>\n",
       "      <td>0.1891</td>\n",
       "    </tr>\n",
       "  </tbody>\n",
       "</table>\n",
       "</div>"
      ],
      "text/plain": [
       "     D+  retention\n",
       "0   D+1     0.4083\n",
       "1   D+3     0.2831\n",
       "2   D+5     0.2473\n",
       "3   D+7     0.2307\n",
       "4   D+9     0.2102\n",
       "5  D+11     0.1963\n",
       "6  D+14     0.1891"
      ]
     },
     "execution_count": 5,
     "metadata": {},
     "output_type": "execute_result"
    }
   ],
   "source": [
    "retention=pd.DataFrame(round(data[[4,5,6,7,8,9,10]].sum()/len(data),4)).reset_index()\n",
    "retention.columns=['D+','retention']\n",
    "retention.iloc[0,0]='D+1'\n",
    "retention.iloc[1,0]='D+3'\n",
    "retention.iloc[2,0]='D+5'\n",
    "retention.iloc[3,0]='D+7'\n",
    "retention.iloc[4,0]='D+9'\n",
    "retention.iloc[5,0]='D+11'\n",
    "retention.iloc[6,0]='D+14'\n",
    "retention"
   ]
  },
  {
   "cell_type": "markdown",
   "metadata": {},
   "source": [
    "**2. OS 타입별 신규유저의 D+1, 3, 5, 7, 9, 11, 14 잔존율(Retention)을 계산해주세요.**\n"
   ]
  },
  {
   "cell_type": "code",
   "execution_count": 6,
   "metadata": {},
   "outputs": [
    {
     "data": {
      "text/html": [
       "<div>\n",
       "<style scoped>\n",
       "    .dataframe tbody tr th:only-of-type {\n",
       "        vertical-align: middle;\n",
       "    }\n",
       "\n",
       "    .dataframe tbody tr th {\n",
       "        vertical-align: top;\n",
       "    }\n",
       "\n",
       "    .dataframe thead th {\n",
       "        text-align: right;\n",
       "    }\n",
       "</style>\n",
       "<table border=\"1\" class=\"dataframe\">\n",
       "  <thead>\n",
       "    <tr style=\"text-align: right;\">\n",
       "      <th></th>\n",
       "      <th>D+1</th>\n",
       "      <th>D+3</th>\n",
       "      <th>D+5</th>\n",
       "      <th>D+7</th>\n",
       "      <th>D+9</th>\n",
       "      <th>D+11</th>\n",
       "      <th>D+14</th>\n",
       "    </tr>\n",
       "    <tr>\n",
       "      <th>1</th>\n",
       "      <th></th>\n",
       "      <th></th>\n",
       "      <th></th>\n",
       "      <th></th>\n",
       "      <th></th>\n",
       "      <th></th>\n",
       "      <th></th>\n",
       "    </tr>\n",
       "  </thead>\n",
       "  <tbody>\n",
       "    <tr>\n",
       "      <th>iOS</th>\n",
       "      <td>0.220578</td>\n",
       "      <td>0.165253</td>\n",
       "      <td>0.147692</td>\n",
       "      <td>0.138571</td>\n",
       "      <td>0.128010</td>\n",
       "      <td>0.119930</td>\n",
       "      <td>0.114729</td>\n",
       "    </tr>\n",
       "    <tr>\n",
       "      <th>Android</th>\n",
       "      <td>0.187695</td>\n",
       "      <td>0.117889</td>\n",
       "      <td>0.099568</td>\n",
       "      <td>0.092167</td>\n",
       "      <td>0.082167</td>\n",
       "      <td>0.076406</td>\n",
       "      <td>0.074326</td>\n",
       "    </tr>\n",
       "  </tbody>\n",
       "</table>\n",
       "</div>"
      ],
      "text/plain": [
       "              D+1       D+3       D+5       D+7       D+9      D+11      D+14\n",
       "1                                                                            \n",
       "iOS      0.220578  0.165253  0.147692  0.138571  0.128010  0.119930  0.114729\n",
       "Android  0.187695  0.117889  0.099568  0.092167  0.082167  0.076406  0.074326"
      ]
     },
     "execution_count": 6,
     "metadata": {},
     "output_type": "execute_result"
    }
   ],
   "source": [
    "# OS 타입별 신규유저의 D+1, 3, 5, 7, 9, 11, 14 잔존율(Retention)\n",
    "os_retention=round(data.groupby([1])[[4,5,6,7,8,9,10]].sum()/len(data), 6).sort_values(by=[4,5,6], axis=0, ascending=False)\n",
    "os_retention.columns=['D+1','D+3','D+5','D+7','D+9','D+11','D+14']\n",
    "os_retention"
   ]
  },
  {
   "cell_type": "markdown",
   "metadata": {},
   "source": [
    "이번에는 가입 당일 유저들이 최종적으로 몇 스테이지까지 도달하는지 확인해보려고 합니다. \n",
    "\n",
    "**3. 신규유저의 가입 당일 최종 도달 스테이지의 5 number summary를 계산해주세요.**\n",
    "\n"
   ]
  },
  {
   "cell_type": "code",
   "execution_count": 7,
   "metadata": {
    "scrolled": false
   },
   "outputs": [
    {
     "name": "stdout",
     "output_type": "stream",
     "text": [
      "Min: 0.000\n",
      "Q1: 5.000\n",
      "Median: 10.000\n",
      "Q3: 18.000\n",
      "Max: 790.000\n"
     ]
    }
   ],
   "source": [
    "quartiles = np.percentile(data[11].dropna(),[25,50,75])\n",
    "data_min, data_max = data[11].min(), data[11].max()\n",
    "print('Min: %.3f' % data_min)\n",
    "print('Q1: %.3f' % quartiles[0])\n",
    "print('Median: %.3f' % quartiles[1])\n",
    "print('Q3: %.3f' % quartiles[2])\n",
    "print('Max: %.3f' % data_max)"
   ]
  },
  {
   "cell_type": "code",
   "execution_count": 8,
   "metadata": {},
   "outputs": [
    {
     "data": {
      "text/plain": [
       "<matplotlib.axes._subplots.AxesSubplot at 0x28e5b8ab5f8>"
      ]
     },
     "execution_count": 8,
     "metadata": {},
     "output_type": "execute_result"
    },
    {
     "data": {
      "image/png": "[encoded data removed]",
      "text/plain": [
       "<Figure size 432x288 with 1 Axes>"
      ]
     },
     "metadata": {
      "needs_background": "light"
     },
     "output_type": "display_data"
    }
   ],
   "source": [
    "# boxplot 그림\n",
    "sns.boxplot(data[11].dropna())"
   ]
  },
  {
   "cell_type": "code",
   "execution_count": 9,
   "metadata": {
    "scrolled": false
   },
   "outputs": [
    {
     "data": {
      "text/plain": [
       "<matplotlib.axes._subplots.AxesSubplot at 0x28e6eef9588>"
      ]
     },
     "execution_count": 9,
     "metadata": {},
     "output_type": "execute_result"
    },
    {
     "data": {
      "image/png": "[encoded data removed]",
      "text/plain": [
       "<Figure size 432x288 with 1 Axes>"
      ]
     },
     "metadata": {
      "needs_background": "light"
     },
     "output_type": "display_data"
    }
   ],
   "source": [
    "# 이상치를 안보이게 한 후 boxplot 그림\n",
    "sns.boxplot(data[11].dropna(),showfliers=False)"
   ]
  },
  {
   "cell_type": "markdown",
   "metadata": {},
   "source": [
    "**4. 신규유저의 가입 당일 최종 도달 스테이지별 유저 분포를 그래프로 표현해주세요.**"
   ]
  },
  {
   "cell_type": "code",
   "execution_count": 10,
   "metadata": {},
   "outputs": [
    {
     "data": {
      "text/plain": [
       "Text(0.5,1,'최종 도달 스테이지별 유저 분포')"
      ]
     },
     "execution_count": 10,
     "metadata": {},
     "output_type": "execute_result"
    },
    {
     "data": {
      "image/png": "[encoded data removed]",
      "text/plain": [
       "<Figure size 432x288 with 1 Axes>"
      ]
     },
     "metadata": {
      "needs_background": "light"
     },
     "output_type": "display_data"
    }
   ],
   "source": [
    "# 신규유저의 가입 당일 최종 도달 스테이지별 유저 분포를 그래프\n",
    "sns.distplot(data[11].dropna())\n",
    "plt.ylabel('분포', fontproperties=fontprop)\n",
    "plt.xlabel('최종 도달 스테이지 수', fontproperties=fontprop)\n",
    "plt.title('최종 도달 스테이지별 유저 분포', fontproperties=fontprop)"
   ]
  },
  {
   "cell_type": "code",
   "execution_count": 11,
   "metadata": {
    "scrolled": true
   },
   "outputs": [
    {
     "name": "stdout",
     "output_type": "stream",
     "text": [
      "상한 : 37.5\n",
      "하한 : -14.5\n"
     ]
    }
   ],
   "source": [
    "# 이상치를 제외한 최대값, 최소값 \n",
    "IQR = quartiles[2] - quartiles[0]\n",
    "upper_limit = quartiles[2] + 1.5*IQR\n",
    "lower_limit = quartiles[0] - 1.5*IQR\n",
    "\n",
    "print('상한 :',upper_limit)\n",
    "print('하한 :',lower_limit)"
   ]
  },
  {
   "cell_type": "code",
   "execution_count": 12,
   "metadata": {},
   "outputs": [
    {
     "data": {
      "text/html": [
       "<div>\n",
       "<style scoped>\n",
       "    .dataframe tbody tr th:only-of-type {\n",
       "        vertical-align: middle;\n",
       "    }\n",
       "\n",
       "    .dataframe tbody tr th {\n",
       "        vertical-align: top;\n",
       "    }\n",
       "\n",
       "    .dataframe thead th {\n",
       "        text-align: right;\n",
       "    }\n",
       "</style>\n",
       "<table border=\"1\" class=\"dataframe\">\n",
       "  <thead>\n",
       "    <tr style=\"text-align: right;\">\n",
       "      <th></th>\n",
       "      <th>1</th>\n",
       "      <th>2</th>\n",
       "      <th>3</th>\n",
       "      <th>4</th>\n",
       "      <th>5</th>\n",
       "      <th>6</th>\n",
       "      <th>7</th>\n",
       "      <th>8</th>\n",
       "      <th>9</th>\n",
       "      <th>10</th>\n",
       "      <th>...</th>\n",
       "      <th>13</th>\n",
       "      <th>14</th>\n",
       "      <th>15</th>\n",
       "      <th>16</th>\n",
       "      <th>17</th>\n",
       "      <th>18</th>\n",
       "      <th>19</th>\n",
       "      <th>20</th>\n",
       "      <th>21</th>\n",
       "      <th>22</th>\n",
       "    </tr>\n",
       "  </thead>\n",
       "  <tbody>\n",
       "    <tr>\n",
       "      <th>0</th>\n",
       "      <td>Android</td>\n",
       "      <td>JP</td>\n",
       "      <td>LINE</td>\n",
       "      <td>0</td>\n",
       "      <td>0</td>\n",
       "      <td>0</td>\n",
       "      <td>0</td>\n",
       "      <td>0</td>\n",
       "      <td>0</td>\n",
       "      <td>0</td>\n",
       "      <td>...</td>\n",
       "      <td>41</td>\n",
       "      <td>41</td>\n",
       "      <td>0</td>\n",
       "      <td>0</td>\n",
       "      <td>0</td>\n",
       "      <td>0</td>\n",
       "      <td>0</td>\n",
       "      <td>32</td>\n",
       "      <td>NaN</td>\n",
       "      <td>NaN</td>\n",
       "    </tr>\n",
       "    <tr>\n",
       "      <th>12</th>\n",
       "      <td>Android</td>\n",
       "      <td>JP</td>\n",
       "      <td>LINE</td>\n",
       "      <td>1</td>\n",
       "      <td>0</td>\n",
       "      <td>0</td>\n",
       "      <td>1</td>\n",
       "      <td>1</td>\n",
       "      <td>0</td>\n",
       "      <td>0</td>\n",
       "      <td>...</td>\n",
       "      <td>14</td>\n",
       "      <td>9</td>\n",
       "      <td>0</td>\n",
       "      <td>0</td>\n",
       "      <td>0</td>\n",
       "      <td>0</td>\n",
       "      <td>0</td>\n",
       "      <td>0</td>\n",
       "      <td>NaN</td>\n",
       "      <td>NaN</td>\n",
       "    </tr>\n",
       "    <tr>\n",
       "      <th>13</th>\n",
       "      <td>Android</td>\n",
       "      <td>JP</td>\n",
       "      <td>LINE</td>\n",
       "      <td>0</td>\n",
       "      <td>1</td>\n",
       "      <td>1</td>\n",
       "      <td>1</td>\n",
       "      <td>1</td>\n",
       "      <td>1</td>\n",
       "      <td>1</td>\n",
       "      <td>...</td>\n",
       "      <td>15</td>\n",
       "      <td>10</td>\n",
       "      <td>0</td>\n",
       "      <td>0</td>\n",
       "      <td>0</td>\n",
       "      <td>0</td>\n",
       "      <td>0</td>\n",
       "      <td>0</td>\n",
       "      <td>NaN</td>\n",
       "      <td>NaN</td>\n",
       "    </tr>\n",
       "    <tr>\n",
       "      <th>17</th>\n",
       "      <td>iOS</td>\n",
       "      <td>JP</td>\n",
       "      <td>LINE</td>\n",
       "      <td>0</td>\n",
       "      <td>0</td>\n",
       "      <td>0</td>\n",
       "      <td>0</td>\n",
       "      <td>0</td>\n",
       "      <td>0</td>\n",
       "      <td>0</td>\n",
       "      <td>...</td>\n",
       "      <td>5</td>\n",
       "      <td>0</td>\n",
       "      <td>0</td>\n",
       "      <td>0</td>\n",
       "      <td>0</td>\n",
       "      <td>0</td>\n",
       "      <td>0</td>\n",
       "      <td>0</td>\n",
       "      <td>NaN</td>\n",
       "      <td>NaN</td>\n",
       "    </tr>\n",
       "    <tr>\n",
       "      <th>18</th>\n",
       "      <td>iOS</td>\n",
       "      <td>JP</td>\n",
       "      <td>LINE</td>\n",
       "      <td>1</td>\n",
       "      <td>0</td>\n",
       "      <td>0</td>\n",
       "      <td>0</td>\n",
       "      <td>0</td>\n",
       "      <td>0</td>\n",
       "      <td>0</td>\n",
       "      <td>...</td>\n",
       "      <td>14</td>\n",
       "      <td>13</td>\n",
       "      <td>0</td>\n",
       "      <td>0</td>\n",
       "      <td>0</td>\n",
       "      <td>0</td>\n",
       "      <td>0</td>\n",
       "      <td>0</td>\n",
       "      <td>NaN</td>\n",
       "      <td>NaN</td>\n",
       "    </tr>\n",
       "  </tbody>\n",
       "</table>\n",
       "<p>5 rows × 22 columns</p>\n",
       "</div>"
      ],
      "text/plain": [
       "         1   2     3   4   5   6   7   8   9   10  ...  13  14  15  16  17  \\\n",
       "0   Android  JP  LINE   0   0   0   0   0   0   0  ...  41  41   0   0   0   \n",
       "12  Android  JP  LINE   1   0   0   1   1   0   0  ...  14   9   0   0   0   \n",
       "13  Android  JP  LINE   0   1   1   1   1   1   1  ...  15  10   0   0   0   \n",
       "17      iOS  JP  LINE   0   0   0   0   0   0   0  ...   5   0   0   0   0   \n",
       "18      iOS  JP  LINE   1   0   0   0   0   0   0  ...  14  13   0   0   0   \n",
       "\n",
       "    18  19  20   21  22  \n",
       "0    0   0  32  NaN NaN  \n",
       "12   0   0   0  NaN NaN  \n",
       "13   0   0   0  NaN NaN  \n",
       "17   0   0   0  NaN NaN  \n",
       "18   0   0   0  NaN NaN  \n",
       "\n",
       "[5 rows x 22 columns]"
      ]
     },
     "execution_count": 12,
     "metadata": {},
     "output_type": "execute_result"
    }
   ],
   "source": [
    "data.head()"
   ]
  },
  {
   "cell_type": "code",
   "execution_count": 13,
   "metadata": {},
   "outputs": [],
   "source": [
    "data[data[11]>float(upper_limit)] = 0\n",
    "data[data[11]<float(lower_limit)] = 0"
   ]
  },
  {
   "cell_type": "code",
   "execution_count": 14,
   "metadata": {
    "scrolled": false
   },
   "outputs": [
    {
     "data": {
      "text/plain": [
       "Text(0.5,1,'최종 도달 스테이지별 유저 분포')"
      ]
     },
     "execution_count": 14,
     "metadata": {},
     "output_type": "execute_result"
    },
    {
     "data": {
      "image/png": "[encoded data removed]",
      "text/plain": [
       "<Figure size 432x288 with 1 Axes>"
      ]
     },
     "metadata": {
      "needs_background": "light"
     },
     "output_type": "display_data"
    }
   ],
   "source": [
    "sns.distplot(data[11].dropna())\n",
    "plt.ylabel('분포', fontproperties=fontprop)\n",
    "plt.xlabel('최종 도달 스테이지 수', fontproperties=fontprop)\n",
    "plt.title('최종 도달 스테이지별 유저 분포', fontproperties=fontprop)"
   ]
  },
  {
   "cell_type": "markdown",
   "metadata": {},
   "source": [
    "**5. 신규유저의 가입 당일 최종 도달 스테이지별 유저수와 비중(%)을 계산해주세요.**"
   ]
  },
  {
   "cell_type": "code",
   "execution_count": 15,
   "metadata": {},
   "outputs": [
    {
     "data": {
      "text/plain": [
       "18765"
      ]
     },
     "execution_count": 15,
     "metadata": {},
     "output_type": "execute_result"
    }
   ],
   "source": [
    "# 신규유저들 중 플레이한 사람들 수\n",
    "# 신규유저 가입자 중 플레이한 값이 없는 (NAN)사람들 제외\n",
    "len(data[11].dropna())"
   ]
  },
  {
   "cell_type": "code",
   "execution_count": 16,
   "metadata": {
    "scrolled": true
   },
   "outputs": [
    {
     "data": {
      "text/html": [
       "<div>\n",
       "<style scoped>\n",
       "    .dataframe tbody tr th:only-of-type {\n",
       "        vertical-align: middle;\n",
       "    }\n",
       "\n",
       "    .dataframe tbody tr th {\n",
       "        vertical-align: top;\n",
       "    }\n",
       "\n",
       "    .dataframe thead th {\n",
       "        text-align: right;\n",
       "    }\n",
       "</style>\n",
       "<table border=\"1\" class=\"dataframe\">\n",
       "  <thead>\n",
       "    <tr style=\"text-align: right;\">\n",
       "      <th></th>\n",
       "      <th>Final stage</th>\n",
       "      <th>counts</th>\n",
       "      <th>P</th>\n",
       "    </tr>\n",
       "  </thead>\n",
       "  <tbody>\n",
       "    <tr>\n",
       "      <th>0</th>\n",
       "      <td>10.0</td>\n",
       "      <td>2669</td>\n",
       "      <td>0.142233</td>\n",
       "    </tr>\n",
       "    <tr>\n",
       "      <th>1</th>\n",
       "      <td>0.0</td>\n",
       "      <td>2018</td>\n",
       "      <td>0.107541</td>\n",
       "    </tr>\n",
       "    <tr>\n",
       "      <th>2</th>\n",
       "      <td>1.0</td>\n",
       "      <td>1719</td>\n",
       "      <td>0.091607</td>\n",
       "    </tr>\n",
       "    <tr>\n",
       "      <th>3</th>\n",
       "      <td>11.0</td>\n",
       "      <td>1506</td>\n",
       "      <td>0.080256</td>\n",
       "    </tr>\n",
       "    <tr>\n",
       "      <th>4</th>\n",
       "      <td>15.0</td>\n",
       "      <td>865</td>\n",
       "      <td>0.046096</td>\n",
       "    </tr>\n",
       "  </tbody>\n",
       "</table>\n",
       "</div>"
      ],
      "text/plain": [
       "   Final stage  counts         P\n",
       "0         10.0    2669  0.142233\n",
       "1          0.0    2018  0.107541\n",
       "2          1.0    1719  0.091607\n",
       "3         11.0    1506  0.080256\n",
       "4         15.0     865  0.046096"
      ]
     },
     "execution_count": 16,
     "metadata": {},
     "output_type": "execute_result"
    }
   ],
   "source": [
    "# 신규유저의 가입 당일 최종 도달 스테이지별 유저수와 비중(%) 계산\n",
    "# 신규가입 유저 중 한 결측치(NAN) 제외한 후 비중(%)을 계산\n",
    "users=data[11].dropna().value_counts().reset_index(name='counts')\n",
    "users.columns=['Final stage','counts']\n",
    "users['P']=users['counts']/users['counts'].sum()\n",
    "users.head()"
   ]
  },
  {
   "cell_type": "markdown",
   "metadata": {},
   "source": [
    "**6. 최종 도달 스테이지를 기준으로 \"스테이지 구분\" 이라는 변수를 생성해주세요.**\n",
    "\n",
    "최종스테이지 기준으로 아래와 같이 구분\n",
    "* 0 : 0\n",
    "* 1~5 : 1~5\n",
    "* 6~9 : 6~9\n",
    "* 10~14 : 10~14\n",
    "* 15~19 : 15~19\n",
    "* 20~ : 20~\n",
    "\n",
    "\n"
   ]
  },
  {
   "cell_type": "code",
   "execution_count": 17,
   "metadata": {
    "scrolled": true
   },
   "outputs": [
    {
     "data": {
      "text/html": [
       "<div>\n",
       "<style scoped>\n",
       "    .dataframe tbody tr th:only-of-type {\n",
       "        vertical-align: middle;\n",
       "    }\n",
       "\n",
       "    .dataframe tbody tr th {\n",
       "        vertical-align: top;\n",
       "    }\n",
       "\n",
       "    .dataframe thead th {\n",
       "        text-align: right;\n",
       "    }\n",
       "</style>\n",
       "<table border=\"1\" class=\"dataframe\">\n",
       "  <thead>\n",
       "    <tr style=\"text-align: right;\">\n",
       "      <th></th>\n",
       "      <th>Final stage</th>\n",
       "      <th>counts</th>\n",
       "      <th>P</th>\n",
       "      <th>스테이지 구분</th>\n",
       "    </tr>\n",
       "  </thead>\n",
       "  <tbody>\n",
       "    <tr>\n",
       "      <th>0</th>\n",
       "      <td>10.0</td>\n",
       "      <td>2669</td>\n",
       "      <td>0.142233</td>\n",
       "      <td>10~14</td>\n",
       "    </tr>\n",
       "    <tr>\n",
       "      <th>1</th>\n",
       "      <td>0.0</td>\n",
       "      <td>2018</td>\n",
       "      <td>0.107541</td>\n",
       "      <td>0</td>\n",
       "    </tr>\n",
       "    <tr>\n",
       "      <th>2</th>\n",
       "      <td>1.0</td>\n",
       "      <td>1719</td>\n",
       "      <td>0.091607</td>\n",
       "      <td>1~5</td>\n",
       "    </tr>\n",
       "    <tr>\n",
       "      <th>3</th>\n",
       "      <td>11.0</td>\n",
       "      <td>1506</td>\n",
       "      <td>0.080256</td>\n",
       "      <td>10~14</td>\n",
       "    </tr>\n",
       "    <tr>\n",
       "      <th>4</th>\n",
       "      <td>15.0</td>\n",
       "      <td>865</td>\n",
       "      <td>0.046096</td>\n",
       "      <td>15~19</td>\n",
       "    </tr>\n",
       "  </tbody>\n",
       "</table>\n",
       "</div>"
      ],
      "text/plain": [
       "   Final stage  counts         P 스테이지 구분\n",
       "0         10.0    2669  0.142233   10~14\n",
       "1          0.0    2018  0.107541       0\n",
       "2          1.0    1719  0.091607     1~5\n",
       "3         11.0    1506  0.080256   10~14\n",
       "4         15.0     865  0.046096   15~19"
      ]
     },
     "execution_count": 17,
     "metadata": {},
     "output_type": "execute_result"
    }
   ],
   "source": [
    "# 최종 도달 스테이지 기준으로 '스테이지 구분' 변수 생성\n",
    "users.loc[(users['Final stage']==0),'스테이지 구분']=0\n",
    "users.loc[(users['Final stage']>=1)&(users['Final stage']<6),'스테이지 구분']='1~5'\n",
    "users.loc[(users['Final stage']>=6)&(users['Final stage']<=9),'스테이지 구분']='6~9'\n",
    "users.loc[(users['Final stage']>=10)&(users['Final stage']<=14),'스테이지 구분']='10~14'\n",
    "users.loc[(users['Final stage']>=15)&(users['Final stage']<=19),'스테이지 구분']='15~19'\n",
    "users.loc[(users['Final stage']>=20),'스테이지 구분']='20~'\n",
    "users.head()"
   ]
  },
  {
   "cell_type": "markdown",
   "metadata": {},
   "source": [
    "**7. 위에서 생성한 \"스테이지 구분\" 별 유저수와 비중(%)을 계산해주세요.**"
   ]
  },
  {
   "cell_type": "code",
   "execution_count": 18,
   "metadata": {
    "scrolled": true
   },
   "outputs": [
    {
     "data": {
      "text/html": [
       "<div>\n",
       "<style scoped>\n",
       "    .dataframe tbody tr th:only-of-type {\n",
       "        vertical-align: middle;\n",
       "    }\n",
       "\n",
       "    .dataframe tbody tr th {\n",
       "        vertical-align: top;\n",
       "    }\n",
       "\n",
       "    .dataframe thead th {\n",
       "        text-align: right;\n",
       "    }\n",
       "</style>\n",
       "<table border=\"1\" class=\"dataframe\">\n",
       "  <thead>\n",
       "    <tr style=\"text-align: right;\">\n",
       "      <th></th>\n",
       "      <th>스테이지 구분</th>\n",
       "      <th>counts</th>\n",
       "      <th>P</th>\n",
       "    </tr>\n",
       "  </thead>\n",
       "  <tbody>\n",
       "    <tr>\n",
       "      <th>0</th>\n",
       "      <td>0</td>\n",
       "      <td>2018</td>\n",
       "      <td>0.107541</td>\n",
       "    </tr>\n",
       "    <tr>\n",
       "      <th>1</th>\n",
       "      <td>1~5</td>\n",
       "      <td>4566</td>\n",
       "      <td>0.243325</td>\n",
       "    </tr>\n",
       "    <tr>\n",
       "      <th>2</th>\n",
       "      <td>6~9</td>\n",
       "      <td>1721</td>\n",
       "      <td>0.091713</td>\n",
       "    </tr>\n",
       "    <tr>\n",
       "      <th>3</th>\n",
       "      <td>10~14</td>\n",
       "      <td>5592</td>\n",
       "      <td>0.298002</td>\n",
       "    </tr>\n",
       "    <tr>\n",
       "      <th>4</th>\n",
       "      <td>15~19</td>\n",
       "      <td>2083</td>\n",
       "      <td>0.111005</td>\n",
       "    </tr>\n",
       "    <tr>\n",
       "      <th>5</th>\n",
       "      <td>20~</td>\n",
       "      <td>2785</td>\n",
       "      <td>0.148415</td>\n",
       "    </tr>\n",
       "  </tbody>\n",
       "</table>\n",
       "</div>"
      ],
      "text/plain": [
       "  스테이지 구분  counts         P\n",
       "0       0    2018  0.107541\n",
       "1     1~5    4566  0.243325\n",
       "2     6~9    1721  0.091713\n",
       "3   10~14    5592  0.298002\n",
       "4   15~19    2083  0.111005\n",
       "5     20~    2785  0.148415"
      ]
     },
     "execution_count": 18,
     "metadata": {},
     "output_type": "execute_result"
    }
   ],
   "source": [
    "# \"스테이지 구분\"별 유저수와 비중(%) 계산\n",
    "# 신규가입 유저 중 결측치(NA) 제외 후 비중(%)을 계산\n",
    "categorical_users=users.groupby(['스테이지 구분'])[['counts']].sum().reset_index()\n",
    "categorical_users['P']=categorical_users['counts']/categorical_users['counts'].sum()\n",
    "categorical_users=categorical_users.reindex([0,3,5,1,2,4])\n",
    "categorical_users.index = range(len(categorical_users))\n",
    "categorical_users"
   ]
  },
  {
   "cell_type": "markdown",
   "metadata": {},
   "source": [
    "### 2. 구매지표 분석\n",
    "\n",
    "가입 당일 과금하며 게임에 몰입하는 유저들은 얼마나 있는지, 구매한다면 어떤 상품을 주로 구매하고 있는지 살펴보려고 합니다.\n",
    "\n",
    "**필요한 컬럼**\n",
    "\n",
    "* 21: 구매한 상품명\n",
    "* 22: 구매 횟수\n"
   ]
  },
  {
   "cell_type": "code",
   "execution_count": 19,
   "metadata": {
    "scrolled": false
   },
   "outputs": [
    {
     "data": {
      "text/plain": [
       "array([0.0, '1~5', '6~9', '10~14', '15~19', '20~'], dtype=object)"
      ]
     },
     "execution_count": 19,
     "metadata": {},
     "output_type": "execute_result"
    }
   ],
   "source": [
    "categorical_users['스테이지 구분'].unique()"
   ]
  },
  {
   "cell_type": "code",
   "execution_count": 20,
   "metadata": {},
   "outputs": [
    {
     "name": "stdout",
     "output_type": "stream",
     "text": [
      "가입 당일 과금하여 구입한 상품: [nan 'Product 4' 0 'Product 11' 'Product 8' 'Product 6' 'Product 5'\n",
      " 'Product 13' 'Product 14' 'Product 15' 'Product 9' 'Product 10'\n",
      " 'Product 2']\n"
     ]
    },
    {
     "data": {
      "text/html": [
       "<div>\n",
       "<style scoped>\n",
       "    .dataframe tbody tr th:only-of-type {\n",
       "        vertical-align: middle;\n",
       "    }\n",
       "\n",
       "    .dataframe tbody tr th {\n",
       "        vertical-align: top;\n",
       "    }\n",
       "\n",
       "    .dataframe thead th {\n",
       "        text-align: right;\n",
       "    }\n",
       "</style>\n",
       "<table border=\"1\" class=\"dataframe\">\n",
       "  <thead>\n",
       "    <tr style=\"text-align: right;\">\n",
       "      <th></th>\n",
       "      <th>22</th>\n",
       "    </tr>\n",
       "  </thead>\n",
       "  <tbody>\n",
       "    <tr>\n",
       "      <th>0.0</th>\n",
       "      <td>1482</td>\n",
       "    </tr>\n",
       "    <tr>\n",
       "      <th>1.0</th>\n",
       "      <td>79</td>\n",
       "    </tr>\n",
       "    <tr>\n",
       "      <th>3.0</th>\n",
       "      <td>1</td>\n",
       "    </tr>\n",
       "    <tr>\n",
       "      <th>4.0</th>\n",
       "      <td>1</td>\n",
       "    </tr>\n",
       "  </tbody>\n",
       "</table>\n",
       "</div>"
      ],
      "text/plain": [
       "       22\n",
       "0.0  1482\n",
       "1.0    79\n",
       "3.0     1\n",
       "4.0     1"
      ]
     },
     "execution_count": 20,
     "metadata": {},
     "output_type": "execute_result"
    }
   ],
   "source": [
    "# 가입 당일 과금하여 게임에 몰입하는 유저들은 39명이 있다.\n",
    "print('가입 당일 과금하여 구입한 상품:',data[21].unique())\n",
    "pd.DataFrame(data[22].value_counts())"
   ]
  },
  {
   "cell_type": "markdown",
   "metadata": {},
   "source": [
    "**1. 구매한 경우 1 구매하지 않은 경우 0 으로 나타나는 \"구매여부\"라는 변수를 생성하고, 전체 구매유저수와 구매하지 않은 유저수를 각각 계산해주세요.**\n",
    "\n",
    "(구매유저 = 구매횟수가 1 이상인 유저)"
   ]
  },
  {
   "cell_type": "code",
   "execution_count": 21,
   "metadata": {},
   "outputs": [
    {
     "data": {
      "text/html": [
       "<div>\n",
       "<style scoped>\n",
       "    .dataframe tbody tr th:only-of-type {\n",
       "        vertical-align: middle;\n",
       "    }\n",
       "\n",
       "    .dataframe tbody tr th {\n",
       "        vertical-align: top;\n",
       "    }\n",
       "\n",
       "    .dataframe thead th {\n",
       "        text-align: right;\n",
       "    }\n",
       "</style>\n",
       "<table border=\"1\" class=\"dataframe\">\n",
       "  <thead>\n",
       "    <tr style=\"text-align: right;\">\n",
       "      <th></th>\n",
       "      <th>21</th>\n",
       "      <th>22</th>\n",
       "      <th>11</th>\n",
       "      <th>12</th>\n",
       "      <th>구매여부</th>\n",
       "    </tr>\n",
       "  </thead>\n",
       "  <tbody>\n",
       "    <tr>\n",
       "      <th>0</th>\n",
       "      <td>0</td>\n",
       "      <td>0.0</td>\n",
       "      <td>29.0</td>\n",
       "      <td>30</td>\n",
       "      <td>0.0</td>\n",
       "    </tr>\n",
       "    <tr>\n",
       "      <th>12</th>\n",
       "      <td>0</td>\n",
       "      <td>0.0</td>\n",
       "      <td>9.0</td>\n",
       "      <td>9</td>\n",
       "      <td>0.0</td>\n",
       "    </tr>\n",
       "    <tr>\n",
       "      <th>13</th>\n",
       "      <td>0</td>\n",
       "      <td>0.0</td>\n",
       "      <td>10.0</td>\n",
       "      <td>10</td>\n",
       "      <td>0.0</td>\n",
       "    </tr>\n",
       "    <tr>\n",
       "      <th>17</th>\n",
       "      <td>0</td>\n",
       "      <td>0.0</td>\n",
       "      <td>0.0</td>\n",
       "      <td>0</td>\n",
       "      <td>0.0</td>\n",
       "    </tr>\n",
       "    <tr>\n",
       "      <th>18</th>\n",
       "      <td>0</td>\n",
       "      <td>0.0</td>\n",
       "      <td>8.0</td>\n",
       "      <td>9</td>\n",
       "      <td>0.0</td>\n",
       "    </tr>\n",
       "  </tbody>\n",
       "</table>\n",
       "</div>"
      ],
      "text/plain": [
       "   21   22    11  12  구매여부\n",
       "0   0  0.0  29.0  30   0.0\n",
       "12  0  0.0   9.0   9   0.0\n",
       "13  0  0.0  10.0  10   0.0\n",
       "17  0  0.0   0.0   0   0.0\n",
       "18  0  0.0   8.0   9   0.0"
      ]
     },
     "execution_count": 21,
     "metadata": {},
     "output_type": "execute_result"
    }
   ],
   "source": [
    "# 구매여부 열 생성\n",
    "purchase_i=data[[21,22,11,12]]\n",
    "# 결측값은 0으로 치환\n",
    "purchase_i.fillna(0,inplace=True)\n",
    "purchase_i.loc[(purchase_i[22]==0),'구매여부']=0\n",
    "purchase_i.loc[(purchase_i[22]>0),'구매여부']=1\n",
    "purchase_i.head()"
   ]
  },
  {
   "cell_type": "code",
   "execution_count": 22,
   "metadata": {},
   "outputs": [
    {
     "data": {
      "text/plain": [
       "0.0    24917\n",
       "1.0       81\n",
       "Name: 구매여부, dtype: int64"
      ]
     },
     "execution_count": 22,
     "metadata": {},
     "output_type": "execute_result"
    }
   ],
   "source": [
    "# 가입 당일 구매한 유저수(1)와 구매하지 않은 유저수(0)\n",
    "purchase_i['구매여부'].value_counts()\n",
    "# 구매한 유저수: 39명 \n",
    "# 구매하지 않은 유저수: 26240명"
   ]
  },
  {
   "cell_type": "markdown",
   "metadata": {},
   "source": [
    "**2. \"구매 여부\" 별 최종 도달 스테이지 분포를 Boxplot으로 표현.**"
   ]
  },
  {
   "cell_type": "code",
   "execution_count": 23,
   "metadata": {
    "scrolled": true
   },
   "outputs": [
    {
     "data": {
      "text/plain": [
       "Text(0.5,1,'Boxplot')"
      ]
     },
     "execution_count": 23,
     "metadata": {},
     "output_type": "execute_result"
    },
    {
     "data": {
      "image/png": "[encoded data removed]",
      "text/plain": [
       "<Figure size 432x288 with 1 Axes>"
      ]
     },
     "metadata": {
      "needs_background": "light"
     },
     "output_type": "display_data"
    }
   ],
   "source": [
    "sns.boxplot(x='구매여부',y=12, data=purchase_i)\n",
    "plt.ylabel('최종 도달 스테이지', fontproperties=fontprop)\n",
    "plt.xlabel('구매여부(0=비구매,1=구매)', fontproperties=fontprop)\n",
    "plt.title('Boxplot', fontproperties=fontprop)"
   ]
  },
  {
   "cell_type": "markdown",
   "metadata": {},
   "source": [
    "**3. \"스테이지 구분\"별 구매유저수와 평균 구매횟수를 계산해주세요.**"
   ]
  },
  {
   "cell_type": "code",
   "execution_count": 24,
   "metadata": {
    "scrolled": true
   },
   "outputs": [],
   "source": [
    "# '구매여부','구매횟수','최종 도달 스테이지','users_counts' 표 생성\n",
    "a=purchase_i.groupby([\"구매여부\",22,12])[12].count().reset_index(name='counts')\n",
    "a.columns=['구매여부','구매횟수','최종 도달 스테이지','users_counts']"
   ]
  },
  {
   "cell_type": "code",
   "execution_count": 25,
   "metadata": {},
   "outputs": [
    {
     "data": {
      "text/html": [
       "<div>\n",
       "<style scoped>\n",
       "    .dataframe tbody tr th:only-of-type {\n",
       "        vertical-align: middle;\n",
       "    }\n",
       "\n",
       "    .dataframe tbody tr th {\n",
       "        vertical-align: top;\n",
       "    }\n",
       "\n",
       "    .dataframe thead th {\n",
       "        text-align: right;\n",
       "    }\n",
       "</style>\n",
       "<table border=\"1\" class=\"dataframe\">\n",
       "  <thead>\n",
       "    <tr style=\"text-align: right;\">\n",
       "      <th></th>\n",
       "      <th>구매여부</th>\n",
       "      <th>구매횟수</th>\n",
       "      <th>최종 도달 스테이지</th>\n",
       "      <th>users_counts</th>\n",
       "      <th>스테이지 구분</th>\n",
       "    </tr>\n",
       "  </thead>\n",
       "  <tbody>\n",
       "    <tr>\n",
       "      <th>0</th>\n",
       "      <td>0.0</td>\n",
       "      <td>0.0</td>\n",
       "      <td>0</td>\n",
       "      <td>8101</td>\n",
       "      <td>0</td>\n",
       "    </tr>\n",
       "    <tr>\n",
       "      <th>1</th>\n",
       "      <td>0.0</td>\n",
       "      <td>0.0</td>\n",
       "      <td>1</td>\n",
       "      <td>1842</td>\n",
       "      <td>1~5</td>\n",
       "    </tr>\n",
       "    <tr>\n",
       "      <th>2</th>\n",
       "      <td>0.0</td>\n",
       "      <td>0.0</td>\n",
       "      <td>2</td>\n",
       "      <td>739</td>\n",
       "      <td>1~5</td>\n",
       "    </tr>\n",
       "    <tr>\n",
       "      <th>3</th>\n",
       "      <td>0.0</td>\n",
       "      <td>0.0</td>\n",
       "      <td>3</td>\n",
       "      <td>654</td>\n",
       "      <td>1~5</td>\n",
       "    </tr>\n",
       "    <tr>\n",
       "      <th>4</th>\n",
       "      <td>0.0</td>\n",
       "      <td>0.0</td>\n",
       "      <td>4</td>\n",
       "      <td>735</td>\n",
       "      <td>1~5</td>\n",
       "    </tr>\n",
       "  </tbody>\n",
       "</table>\n",
       "</div>"
      ],
      "text/plain": [
       "   구매여부  구매횟수  최종 도달 스테이지  users_counts 스테이지 구분\n",
       "0   0.0   0.0           0          8101       0\n",
       "1   0.0   0.0           1          1842     1~5\n",
       "2   0.0   0.0           2           739     1~5\n",
       "3   0.0   0.0           3           654     1~5\n",
       "4   0.0   0.0           4           735     1~5"
      ]
     },
     "execution_count": 25,
     "metadata": {},
     "output_type": "execute_result"
    }
   ],
   "source": [
    "# 스테이지 구분 열 추가하기 \n",
    "a.loc[(a['최종 도달 스테이지']==0),'스테이지 구분']=0\n",
    "a.loc[(a['최종 도달 스테이지']>=1)&(a['최종 도달 스테이지']<6),'스테이지 구분']='1~5'\n",
    "a.loc[(a['최종 도달 스테이지']>=6)&(a['최종 도달 스테이지']<=9),'스테이지 구분']='6~9'\n",
    "a.loc[(a['최종 도달 스테이지']>=10)&(a['최종 도달 스테이지']<=14),'스테이지 구분']='10~14'\n",
    "a.loc[(a['최종 도달 스테이지']>=15)&(a['최종 도달 스테이지']<=19),'스테이지 구분']='15~19'\n",
    "a.loc[(a['최종 도달 스테이지']>=20),'스테이지 구분']='20~'\n",
    "a.head()"
   ]
  },
  {
   "cell_type": "code",
   "execution_count": 26,
   "metadata": {},
   "outputs": [],
   "source": [
    "# \"스테이지 구분\"별 구매유저수와 평균 구매횟수 계산\n",
    "categorical_purchase=a.groupby(['스테이지 구분','구매여부']).agg({'users_counts':'sum','구매횟수':'mean'}).reset_index()\n",
    "cateogrical_purchase1=categorical_purchase.loc[categorical_purchase['구매여부'] != 0]"
   ]
  },
  {
   "cell_type": "code",
   "execution_count": 27,
   "metadata": {},
   "outputs": [
    {
     "data": {
      "text/html": [
       "<div>\n",
       "<style scoped>\n",
       "    .dataframe tbody tr th:only-of-type {\n",
       "        vertical-align: middle;\n",
       "    }\n",
       "\n",
       "    .dataframe tbody tr th {\n",
       "        vertical-align: top;\n",
       "    }\n",
       "\n",
       "    .dataframe thead th {\n",
       "        text-align: right;\n",
       "    }\n",
       "</style>\n",
       "<table border=\"1\" class=\"dataframe\">\n",
       "  <thead>\n",
       "    <tr style=\"text-align: right;\">\n",
       "      <th></th>\n",
       "      <th>스테이지 구분</th>\n",
       "      <th>구매여부</th>\n",
       "      <th>users_counts</th>\n",
       "      <th>구매횟수</th>\n",
       "    </tr>\n",
       "  </thead>\n",
       "  <tbody>\n",
       "    <tr>\n",
       "      <th>0</th>\n",
       "      <td>1~5</td>\n",
       "      <td>1.0</td>\n",
       "      <td>1.0</td>\n",
       "      <td>1.000000</td>\n",
       "    </tr>\n",
       "    <tr>\n",
       "      <th>1</th>\n",
       "      <td>NaN</td>\n",
       "      <td>NaN</td>\n",
       "      <td>NaN</td>\n",
       "      <td>NaN</td>\n",
       "    </tr>\n",
       "    <tr>\n",
       "      <th>2</th>\n",
       "      <td>10~14</td>\n",
       "      <td>1.0</td>\n",
       "      <td>17.0</td>\n",
       "      <td>1.000000</td>\n",
       "    </tr>\n",
       "    <tr>\n",
       "      <th>3</th>\n",
       "      <td>15~19</td>\n",
       "      <td>1.0</td>\n",
       "      <td>14.0</td>\n",
       "      <td>1.000000</td>\n",
       "    </tr>\n",
       "    <tr>\n",
       "      <th>4</th>\n",
       "      <td>20~</td>\n",
       "      <td>1.0</td>\n",
       "      <td>49.0</td>\n",
       "      <td>1.333333</td>\n",
       "    </tr>\n",
       "  </tbody>\n",
       "</table>\n",
       "</div>"
      ],
      "text/plain": [
       "  스테이지 구분  구매여부  users_counts      구매횟수\n",
       "0     1~5   1.0           1.0  1.000000\n",
       "1     NaN   NaN           NaN       NaN\n",
       "2   10~14   1.0          17.0  1.000000\n",
       "3   15~19   1.0          14.0  1.000000\n",
       "4     20~   1.0          49.0  1.333333"
      ]
     },
     "execution_count": 27,
     "metadata": {},
     "output_type": "execute_result"
    }
   ],
   "source": [
    "# index 정리 및 스테이지 구분 순서 정리\n",
    "cateogrical_purchase1=cateogrical_purchase1.reindex([6,10,2,4,8])\n",
    "cateogrical_purchase1.index = range(len(cateogrical_purchase1))\n",
    "cateogrical_purchase1"
   ]
  },
  {
   "cell_type": "markdown",
   "metadata": {},
   "source": [
    "**4. 상품별 구매유저수를 계산하고, 구매유저수가 가장 많은 상품부터 순서대로 나열해주세요.**"
   ]
  },
  {
   "cell_type": "code",
   "execution_count": 28,
   "metadata": {},
   "outputs": [],
   "source": [
    "# 상품별 품목과 구매횟수 열 추출 후 구매횟수가 있는 유저들만 gathering \n",
    "purchase_i=data[[21,22]]\n",
    "purchase_i.fillna(0,inplace=True)\n",
    "purchase_i=purchase_i.loc[purchase_i[21] != 0]"
   ]
  },
  {
   "cell_type": "code",
   "execution_count": 29,
   "metadata": {},
   "outputs": [
    {
     "data": {
      "text/html": [
       "<div>\n",
       "<style scoped>\n",
       "    .dataframe tbody tr th:only-of-type {\n",
       "        vertical-align: middle;\n",
       "    }\n",
       "\n",
       "    .dataframe tbody tr th {\n",
       "        vertical-align: top;\n",
       "    }\n",
       "\n",
       "    .dataframe thead th {\n",
       "        text-align: right;\n",
       "    }\n",
       "</style>\n",
       "<table border=\"1\" class=\"dataframe\">\n",
       "  <thead>\n",
       "    <tr style=\"text-align: right;\">\n",
       "      <th></th>\n",
       "      <th>21</th>\n",
       "      <th>counts</th>\n",
       "    </tr>\n",
       "  </thead>\n",
       "  <tbody>\n",
       "    <tr>\n",
       "      <th>6</th>\n",
       "      <td>Product 4</td>\n",
       "      <td>46</td>\n",
       "    </tr>\n",
       "    <tr>\n",
       "      <th>9</th>\n",
       "      <td>Product 8</td>\n",
       "      <td>14</td>\n",
       "    </tr>\n",
       "    <tr>\n",
       "      <th>1</th>\n",
       "      <td>Product 11</td>\n",
       "      <td>7</td>\n",
       "    </tr>\n",
       "    <tr>\n",
       "      <th>2</th>\n",
       "      <td>Product 13</td>\n",
       "      <td>3</td>\n",
       "    </tr>\n",
       "    <tr>\n",
       "      <th>7</th>\n",
       "      <td>Product 5</td>\n",
       "      <td>3</td>\n",
       "    </tr>\n",
       "    <tr>\n",
       "      <th>0</th>\n",
       "      <td>Product 10</td>\n",
       "      <td>2</td>\n",
       "    </tr>\n",
       "    <tr>\n",
       "      <th>8</th>\n",
       "      <td>Product 6</td>\n",
       "      <td>2</td>\n",
       "    </tr>\n",
       "    <tr>\n",
       "      <th>3</th>\n",
       "      <td>Product 14</td>\n",
       "      <td>1</td>\n",
       "    </tr>\n",
       "    <tr>\n",
       "      <th>4</th>\n",
       "      <td>Product 15</td>\n",
       "      <td>1</td>\n",
       "    </tr>\n",
       "    <tr>\n",
       "      <th>5</th>\n",
       "      <td>Product 2</td>\n",
       "      <td>1</td>\n",
       "    </tr>\n",
       "    <tr>\n",
       "      <th>10</th>\n",
       "      <td>Product 9</td>\n",
       "      <td>1</td>\n",
       "    </tr>\n",
       "  </tbody>\n",
       "</table>\n",
       "</div>"
      ],
      "text/plain": [
       "            21  counts\n",
       "6    Product 4      46\n",
       "9    Product 8      14\n",
       "1   Product 11       7\n",
       "2   Product 13       3\n",
       "7    Product 5       3\n",
       "0   Product 10       2\n",
       "8    Product 6       2\n",
       "3   Product 14       1\n",
       "4   Product 15       1\n",
       "5    Product 2       1\n",
       "10   Product 9       1"
      ]
     },
     "execution_count": 29,
     "metadata": {},
     "output_type": "execute_result"
    }
   ],
   "source": [
    "# 상품별 구매유저수를 계산하고, 구매유저수가 가장 많은 상품부터 순서대로 나열\n",
    "purchase_i.groupby([21])[22].count().reset_index(name='counts').sort_values(by=['counts'], axis=0, ascending=False)"
   ]
  },
  {
   "cell_type": "markdown",
   "metadata": {},
   "source": [
    "### 3. 재화 지표 분석\n",
    "\n",
    "**\"버블2\"**에서 사용되는 여러 재화들 중 두 가지 중요한 재화에 대해 살펴보겠습니다.\n",
    "\n",
    "먼저, **\"루비\"**는 게임 내 메인 캐시역할을 하는 재화입니다. 주로 과금을 통해 획득할 수 있고, 가끔 보상이나 버디 스킬을 통해 획득할 수 있습니다.\n",
    "루비 사용처를 파악하면 유저들이 어떤 측면에서 과금 니즈를 느끼는지 확인할 수 있습니다.\n",
    "\n",
    "그리고 **\"불꽃\"**이라는 재화는 게임 내 메인 스테이지에 입장하기 위한 열쇠 역할을 하는 재화입니다. 불꽃을 모두 사용하면 시간이 지남에 따라 최대 5개까지 자동으로 충전되고, 그 외 필요한 불꽃은 루비로 구매할 수 있고, 이벤트를 통해서도 가끔 획득할 수 있습니다.\n",
    "\n",
    "**필요한 컬럼**\n",
    "\n",
    "* 13: 획득한 불꽃 총 개수\n",
    "* 14: 사용한 불꽃 총 개수\n",
    "* 15: 코인 교환에 사용한 루비량\n",
    "* 16: 버디 슬롯 개방에 사용한 루비량\n",
    "* 17: 에피소드 오픈에 사용한 루비량\n",
    "* 18: 불꽃 충전에 사용한 루비량\n",
    "* 19: 버디 뽑기(가챠)에 사용한 루비량\n",
    "* 20: 스테이지 플레이에 필요한 아이템 구매에 사용한 루비량\n",
    "\n"
   ]
  },
  {
   "cell_type": "markdown",
   "metadata": {},
   "source": [
    "**1. 루비의 각 소비처(컬럼 15~20번) 별 루비를 사용한 유저수, 평균 사용량을 계산해주세요.**"
   ]
  },
  {
   "cell_type": "code",
   "execution_count": 30,
   "metadata": {},
   "outputs": [
    {
     "name": "stdout",
     "output_type": "stream",
     "text": [
      "컬럼15번 루비를 사용한 유저수:  45\n",
      "컬럼15번 루비를 사용한 평균 사용량:  12.2222\n",
      "\n",
      "컬럼16번 루비를 사용한 유저수:  16\n",
      "컬럼16번 루비를 사용한 평균 사용량:  30.0\n",
      "\n",
      "컬럼17번 루비를 사용한 유저수:  0\n",
      "컬럼17번 루비를 사용한 평균 사용량:  nan\n",
      "\n",
      "컬럼18번 루비를 사용한 유저수:  299\n",
      "컬럼18번 루비를 사용한 평균 사용량:  15.5518\n",
      "\n",
      "컬럼19번 루비를 사용한 유저수:  809\n",
      "컬럼19번 루비를 사용한 평균 사용량:  36.2546\n",
      "\n",
      "컬럼20번 루비를 사용한 유저수:  1381\n",
      "컬럼20번 루비를 사용한 평균 사용량:  25.6973\n"
     ]
    }
   ],
   "source": [
    "print('컬럼15번 루비를 사용한 유저수: ',data[data[15]>0][15].count())\n",
    "print('컬럼15번 루비를 사용한 평균 사용량: ', round(data[data[15]>0][15].mean(),4))\n",
    "print('')\n",
    "print('컬럼16번 루비를 사용한 유저수: ',data[data[16]>0][16].count())\n",
    "print('컬럼16번 루비를 사용한 평균 사용량: ', round(data[data[16]>0][16].mean(),4))\n",
    "print('') # 컬럼 17번은 데이터가 오류가 있음\n",
    "print('컬럼17번 루비를 사용한 유저수: ',data[data[17]>0][17].count())\n",
    "print('컬럼17번 루비를 사용한 평균 사용량: ', round(data[data[17]>0][17].mean(),4))\n",
    "print('')\n",
    "print('컬럼18번 루비를 사용한 유저수: ',data[data[18]>0][18].count())\n",
    "print('컬럼18번 루비를 사용한 평균 사용량: ', round(data[data[18]>0][18].mean(),4))\n",
    "print('')\n",
    "print('컬럼19번 루비를 사용한 유저수: ',data[data[19]>0][19].count())\n",
    "print('컬럼19번 루비를 사용한 평균 사용량: ', round(data[data[19]>0][19].mean(),4))\n",
    "print('')\n",
    "print('컬럼20번 루비를 사용한 유저수: ',data[data[20]>0][20].count())\n",
    "print('컬럼20번 루비를 사용한 평균 사용량: ', round(data[data[20]>0][20].mean(),4))"
   ]
  },
  {
   "cell_type": "markdown",
   "metadata": {},
   "source": [
    "**2. \"스테이지 구분\"별 루비의 각 소비처별로 루비를 사용한 유저수, 평균 사용량을 계산해주세요.**"
   ]
  },
  {
   "cell_type": "code",
   "execution_count": 31,
   "metadata": {},
   "outputs": [],
   "source": [
    "# 최종 도달 스테이지 기준으로 '스테이지 구분' 변수 생성\n",
    "data.loc[(data[11]==0),'스테이지 구분']=0\n",
    "data.loc[(data[11]>=1)&(data[11]<6),'스테이지 구분']='1~5'\n",
    "data.loc[(data[11]>=6)&(data[11]<=9),'스테이지 구분']='6~9'\n",
    "data.loc[(data[11]>=10)&(data[11]<=14),'스테이지 구분']='10~14'\n",
    "data.loc[(data[11]>=15)&(data[11]<=19),'스테이지 구분']='15~19'\n",
    "data.loc[(data[11]>=20),'스테이지 구분']='20~'"
   ]
  },
  {
   "cell_type": "code",
   "execution_count": 32,
   "metadata": {
    "scrolled": true
   },
   "outputs": [],
   "source": [
    "# 각 스테이지 구분별 소비처별로 루비를 사용한 유저들만 추출\n",
    "ruby15=data[['스테이지 구분',15]]\n",
    "ruby15=ruby15[(ruby15!=0).all(1)]\n",
    "\n",
    "ruby16=data[['스테이지 구분',16]]\n",
    "ruby16=ruby16[(ruby16!=0).all(1)]\n",
    "\n",
    "ruby17=data[['스테이지 구분',17]]\n",
    "ruby17=ruby17[(ruby17!=0).all(1)]\n",
    "\n",
    "ruby18=data[['스테이지 구분',18]]\n",
    "ruby18=ruby18[(ruby18!=0).all(1)]\n",
    "\n",
    "ruby19=data[['스테이지 구분',19]]\n",
    "ruby19=ruby19[(ruby19!=0).all(1)]\n",
    "\n",
    "ruby20=data[['스테이지 구분',20]]\n",
    "ruby20=ruby20[(ruby20!=0).all(1)]"
   ]
  },
  {
   "cell_type": "code",
   "execution_count": 33,
   "metadata": {},
   "outputs": [
    {
     "data": {
      "text/html": [
       "<div>\n",
       "<style scoped>\n",
       "    .dataframe tbody tr th:only-of-type {\n",
       "        vertical-align: middle;\n",
       "    }\n",
       "\n",
       "    .dataframe tbody tr th {\n",
       "        vertical-align: top;\n",
       "    }\n",
       "\n",
       "    .dataframe thead tr th {\n",
       "        text-align: left;\n",
       "    }\n",
       "</style>\n",
       "<table border=\"1\" class=\"dataframe\">\n",
       "  <thead>\n",
       "    <tr>\n",
       "      <th></th>\n",
       "      <th>스테이지 구분</th>\n",
       "      <th colspan=\"2\" halign=\"left\">15</th>\n",
       "    </tr>\n",
       "    <tr>\n",
       "      <th></th>\n",
       "      <th></th>\n",
       "      <th>count</th>\n",
       "      <th>mean</th>\n",
       "    </tr>\n",
       "  </thead>\n",
       "  <tbody>\n",
       "    <tr>\n",
       "      <th>0</th>\n",
       "      <td>6~9</td>\n",
       "      <td>1</td>\n",
       "      <td>10.0</td>\n",
       "    </tr>\n",
       "    <tr>\n",
       "      <th>1</th>\n",
       "      <td>10~14</td>\n",
       "      <td>15</td>\n",
       "      <td>10.0</td>\n",
       "    </tr>\n",
       "    <tr>\n",
       "      <th>2</th>\n",
       "      <td>15~19</td>\n",
       "      <td>5</td>\n",
       "      <td>18.0</td>\n",
       "    </tr>\n",
       "    <tr>\n",
       "      <th>3</th>\n",
       "      <td>20~</td>\n",
       "      <td>24</td>\n",
       "      <td>12.5</td>\n",
       "    </tr>\n",
       "  </tbody>\n",
       "</table>\n",
       "</div>"
      ],
      "text/plain": [
       "  스테이지 구분    15      \n",
       "          count  mean\n",
       "0     6~9     1  10.0\n",
       "1   10~14    15  10.0\n",
       "2   15~19     5  18.0\n",
       "3     20~    24  12.5"
      ]
     },
     "execution_count": 33,
     "metadata": {},
     "output_type": "execute_result"
    }
   ],
   "source": [
    "# \"스테이지 구분\"별 루비의 각 소비처별로 루비를 사용한 유저수(count), 평균 사용량(mean)\n",
    "ruby15=ruby15.groupby(['스테이지 구분']).agg({15:{'count':'count','mean':'mean'}}).reset_index()\n",
    "ruby15=ruby15.reindex([3,0,1,2])\n",
    "ruby15.index = range(len(ruby15))\n",
    "ruby15"
   ]
  },
  {
   "cell_type": "code",
   "execution_count": 34,
   "metadata": {},
   "outputs": [
    {
     "data": {
      "text/html": [
       "<div>\n",
       "<style scoped>\n",
       "    .dataframe tbody tr th:only-of-type {\n",
       "        vertical-align: middle;\n",
       "    }\n",
       "\n",
       "    .dataframe tbody tr th {\n",
       "        vertical-align: top;\n",
       "    }\n",
       "\n",
       "    .dataframe thead tr th {\n",
       "        text-align: left;\n",
       "    }\n",
       "</style>\n",
       "<table border=\"1\" class=\"dataframe\">\n",
       "  <thead>\n",
       "    <tr>\n",
       "      <th></th>\n",
       "      <th>스테이지 구분</th>\n",
       "      <th colspan=\"2\" halign=\"left\">16</th>\n",
       "    </tr>\n",
       "    <tr>\n",
       "      <th></th>\n",
       "      <th></th>\n",
       "      <th>count</th>\n",
       "      <th>mean</th>\n",
       "    </tr>\n",
       "  </thead>\n",
       "  <tbody>\n",
       "    <tr>\n",
       "      <th>0</th>\n",
       "      <td>20~</td>\n",
       "      <td>16</td>\n",
       "      <td>30</td>\n",
       "    </tr>\n",
       "  </tbody>\n",
       "</table>\n",
       "</div>"
      ],
      "text/plain": [
       "  스테이지 구분    16     \n",
       "          count mean\n",
       "0     20~    16   30"
      ]
     },
     "execution_count": 34,
     "metadata": {},
     "output_type": "execute_result"
    }
   ],
   "source": [
    "ruby16=ruby16.groupby(['스테이지 구분']).agg({16:{'count':'count','mean':'mean'}}).reset_index()\n",
    "ruby16"
   ]
  },
  {
   "cell_type": "code",
   "execution_count": 35,
   "metadata": {},
   "outputs": [
    {
     "data": {
      "text/html": [
       "<div>\n",
       "<style scoped>\n",
       "    .dataframe tbody tr th:only-of-type {\n",
       "        vertical-align: middle;\n",
       "    }\n",
       "\n",
       "    .dataframe tbody tr th {\n",
       "        vertical-align: top;\n",
       "    }\n",
       "\n",
       "    .dataframe thead tr th {\n",
       "        text-align: left;\n",
       "    }\n",
       "</style>\n",
       "<table border=\"1\" class=\"dataframe\">\n",
       "  <thead>\n",
       "    <tr>\n",
       "      <th></th>\n",
       "      <th>스테이지 구분</th>\n",
       "      <th colspan=\"2\" halign=\"left\">17</th>\n",
       "    </tr>\n",
       "    <tr>\n",
       "      <th></th>\n",
       "      <th></th>\n",
       "      <th>count</th>\n",
       "      <th>mean</th>\n",
       "    </tr>\n",
       "  </thead>\n",
       "  <tbody>\n",
       "  </tbody>\n",
       "</table>\n",
       "</div>"
      ],
      "text/plain": [
       "Empty DataFrame\n",
       "Columns: [(스테이지 구분, ), (17, count), (17, mean)]\n",
       "Index: []"
      ]
     },
     "execution_count": 35,
     "metadata": {},
     "output_type": "execute_result"
    }
   ],
   "source": [
    "# 변수17은 데이터가 잘못되어있음.\n",
    "ruby17=ruby17.groupby(['스테이지 구분']).agg({17:{'count':'count','mean':'mean'}}).reset_index()\n",
    "ruby17"
   ]
  },
  {
   "cell_type": "code",
   "execution_count": 36,
   "metadata": {},
   "outputs": [
    {
     "data": {
      "text/html": [
       "<div>\n",
       "<style scoped>\n",
       "    .dataframe tbody tr th:only-of-type {\n",
       "        vertical-align: middle;\n",
       "    }\n",
       "\n",
       "    .dataframe tbody tr th {\n",
       "        vertical-align: top;\n",
       "    }\n",
       "\n",
       "    .dataframe thead tr th {\n",
       "        text-align: left;\n",
       "    }\n",
       "</style>\n",
       "<table border=\"1\" class=\"dataframe\">\n",
       "  <thead>\n",
       "    <tr>\n",
       "      <th></th>\n",
       "      <th>스테이지 구분</th>\n",
       "      <th colspan=\"2\" halign=\"left\">18</th>\n",
       "    </tr>\n",
       "    <tr>\n",
       "      <th></th>\n",
       "      <th></th>\n",
       "      <th>count</th>\n",
       "      <th>mean</th>\n",
       "    </tr>\n",
       "  </thead>\n",
       "  <tbody>\n",
       "    <tr>\n",
       "      <th>0</th>\n",
       "      <td>1~5</td>\n",
       "      <td>1</td>\n",
       "      <td>10.000000</td>\n",
       "    </tr>\n",
       "    <tr>\n",
       "      <th>1</th>\n",
       "      <td>6~9</td>\n",
       "      <td>4</td>\n",
       "      <td>10.000000</td>\n",
       "    </tr>\n",
       "    <tr>\n",
       "      <th>2</th>\n",
       "      <td>10~14</td>\n",
       "      <td>64</td>\n",
       "      <td>10.625000</td>\n",
       "    </tr>\n",
       "    <tr>\n",
       "      <th>3</th>\n",
       "      <td>15~19</td>\n",
       "      <td>42</td>\n",
       "      <td>13.095238</td>\n",
       "    </tr>\n",
       "    <tr>\n",
       "      <th>4</th>\n",
       "      <td>20~</td>\n",
       "      <td>188</td>\n",
       "      <td>17.925532</td>\n",
       "    </tr>\n",
       "  </tbody>\n",
       "</table>\n",
       "</div>"
      ],
      "text/plain": [
       "  스테이지 구분    18           \n",
       "          count       mean\n",
       "0     1~5     1  10.000000\n",
       "1     6~9     4  10.000000\n",
       "2   10~14    64  10.625000\n",
       "3   15~19    42  13.095238\n",
       "4     20~   188  17.925532"
      ]
     },
     "execution_count": 36,
     "metadata": {},
     "output_type": "execute_result"
    }
   ],
   "source": [
    "ruby18=ruby18.groupby(['스테이지 구분']).agg({18:{'count':'count','mean':'mean'}}).reset_index()\n",
    "ruby18=ruby18.reindex([2,4,0,1,3])\n",
    "ruby18.index = range(len(ruby18))\n",
    "ruby18"
   ]
  },
  {
   "cell_type": "code",
   "execution_count": 37,
   "metadata": {},
   "outputs": [
    {
     "data": {
      "text/html": [
       "<div>\n",
       "<style scoped>\n",
       "    .dataframe tbody tr th:only-of-type {\n",
       "        vertical-align: middle;\n",
       "    }\n",
       "\n",
       "    .dataframe tbody tr th {\n",
       "        vertical-align: top;\n",
       "    }\n",
       "\n",
       "    .dataframe thead tr th {\n",
       "        text-align: left;\n",
       "    }\n",
       "</style>\n",
       "<table border=\"1\" class=\"dataframe\">\n",
       "  <thead>\n",
       "    <tr>\n",
       "      <th></th>\n",
       "      <th>스테이지 구분</th>\n",
       "      <th colspan=\"2\" halign=\"left\">19</th>\n",
       "    </tr>\n",
       "    <tr>\n",
       "      <th></th>\n",
       "      <th></th>\n",
       "      <th>count</th>\n",
       "      <th>mean</th>\n",
       "    </tr>\n",
       "  </thead>\n",
       "  <tbody>\n",
       "    <tr>\n",
       "      <th>0</th>\n",
       "      <td>6~9</td>\n",
       "      <td>1</td>\n",
       "      <td>35.000000</td>\n",
       "    </tr>\n",
       "    <tr>\n",
       "      <th>1</th>\n",
       "      <td>10~14</td>\n",
       "      <td>8</td>\n",
       "      <td>70.000000</td>\n",
       "    </tr>\n",
       "    <tr>\n",
       "      <th>2</th>\n",
       "      <td>15~19</td>\n",
       "      <td>274</td>\n",
       "      <td>35.383212</td>\n",
       "    </tr>\n",
       "    <tr>\n",
       "      <th>3</th>\n",
       "      <td>20~</td>\n",
       "      <td>526</td>\n",
       "      <td>36.197719</td>\n",
       "    </tr>\n",
       "  </tbody>\n",
       "</table>\n",
       "</div>"
      ],
      "text/plain": [
       "  스테이지 구분    19           \n",
       "          count       mean\n",
       "0     6~9     1  35.000000\n",
       "1   10~14     8  70.000000\n",
       "2   15~19   274  35.383212\n",
       "3     20~   526  36.197719"
      ]
     },
     "execution_count": 37,
     "metadata": {},
     "output_type": "execute_result"
    }
   ],
   "source": [
    "ruby19=ruby19.groupby(['스테이지 구분']).agg({19:{'count':'count','mean':'mean'}}).reset_index()\n",
    "ruby19=ruby19.reindex([3,0,1,2])\n",
    "ruby19.index = range(len(ruby19))\n",
    "ruby19"
   ]
  },
  {
   "cell_type": "code",
   "execution_count": 38,
   "metadata": {
    "scrolled": true
   },
   "outputs": [
    {
     "data": {
      "text/html": [
       "<div>\n",
       "<style scoped>\n",
       "    .dataframe tbody tr th:only-of-type {\n",
       "        vertical-align: middle;\n",
       "    }\n",
       "\n",
       "    .dataframe tbody tr th {\n",
       "        vertical-align: top;\n",
       "    }\n",
       "\n",
       "    .dataframe thead tr th {\n",
       "        text-align: left;\n",
       "    }\n",
       "</style>\n",
       "<table border=\"1\" class=\"dataframe\">\n",
       "  <thead>\n",
       "    <tr>\n",
       "      <th></th>\n",
       "      <th>스테이지 구분</th>\n",
       "      <th colspan=\"2\" halign=\"left\">20</th>\n",
       "    </tr>\n",
       "    <tr>\n",
       "      <th></th>\n",
       "      <th></th>\n",
       "      <th>count</th>\n",
       "      <th>mean</th>\n",
       "    </tr>\n",
       "  </thead>\n",
       "  <tbody>\n",
       "    <tr>\n",
       "      <th>0</th>\n",
       "      <td>1~5</td>\n",
       "      <td>17</td>\n",
       "      <td>4.000000</td>\n",
       "    </tr>\n",
       "    <tr>\n",
       "      <th>1</th>\n",
       "      <td>6~9</td>\n",
       "      <td>61</td>\n",
       "      <td>4.573770</td>\n",
       "    </tr>\n",
       "    <tr>\n",
       "      <th>2</th>\n",
       "      <td>10~14</td>\n",
       "      <td>475</td>\n",
       "      <td>4.694737</td>\n",
       "    </tr>\n",
       "    <tr>\n",
       "      <th>3</th>\n",
       "      <td>15~19</td>\n",
       "      <td>224</td>\n",
       "      <td>12.151786</td>\n",
       "    </tr>\n",
       "    <tr>\n",
       "      <th>4</th>\n",
       "      <td>20~</td>\n",
       "      <td>602</td>\n",
       "      <td>50.134551</td>\n",
       "    </tr>\n",
       "  </tbody>\n",
       "</table>\n",
       "</div>"
      ],
      "text/plain": [
       "  스테이지 구분    20           \n",
       "          count       mean\n",
       "0     1~5    17   4.000000\n",
       "1     6~9    61   4.573770\n",
       "2   10~14   475   4.694737\n",
       "3   15~19   224  12.151786\n",
       "4     20~   602  50.134551"
      ]
     },
     "execution_count": 38,
     "metadata": {},
     "output_type": "execute_result"
    }
   ],
   "source": [
    "ruby20=ruby20.groupby(['스테이지 구분']).agg({20:{'count':'count','mean':'mean'}}).reset_index()\n",
    "ruby20=ruby20.reindex([2,4,0,1,3])\n",
    "ruby20.index = range(len(ruby20))\n",
    "ruby20"
   ]
  },
  {
   "cell_type": "markdown",
   "metadata": {},
   "source": [
    "**3. \"스테이지 구분\" 및 \"구매여부\"에 따라 루비의 각 소비처별로 루비를 사용한 유저수, 평균 사용량을 각각 계산해주세요.**\n",
    "\n",
    "\"스테이지 구분\"이 row, \"구매여부\"가 column이 되도록 만들어주세요."
   ]
  },
  {
   "cell_type": "code",
   "execution_count": 39,
   "metadata": {},
   "outputs": [],
   "source": [
    "# 구매여부 열 생성\n",
    "# 결측값 0으로 치환\n",
    "data.fillna(0,inplace=True)\n",
    "# data에 '구매여부' 열 생성\n",
    "data.loc[(data[22]==0),'구매여부']=0\n",
    "data.loc[(data[22]>0),'구매여부']=1"
   ]
  },
  {
   "cell_type": "code",
   "execution_count": 40,
   "metadata": {
    "scrolled": false
   },
   "outputs": [
    {
     "name": "stdout",
     "output_type": "stream",
     "text": [
      "             15                          \n",
      "          count            mean          \n",
      "구매여부        0.0   1.0       0.0       1.0\n",
      "스테이지 구분                                  \n",
      "0        8251.0   NaN  0.000000       NaN\n",
      "10~14    5578.0  14.0  0.026891  0.000000\n",
      "15~19    2069.0  14.0  0.043499  0.000000\n",
      "1~5      4565.0   1.0  0.000000  0.000000\n",
      "20~      2736.0  49.0  0.076754  1.836735\n",
      "6~9      1718.0   3.0  0.005821  0.000000\n",
      "             16                          \n",
      "          count            mean          \n",
      "구매여부        0.0   1.0       0.0       1.0\n",
      "스테이지 구분                                  \n",
      "0        8251.0   NaN  0.000000       NaN\n",
      "10~14    5578.0  14.0  0.000000  0.000000\n",
      "15~19    2069.0  14.0  0.000000  0.000000\n",
      "1~5      4565.0   1.0  0.000000  0.000000\n",
      "20~      2736.0  49.0  0.164474  0.612245\n",
      "6~9      1718.0   3.0  0.000000  0.000000\n",
      "             17                \n",
      "          count       mean     \n",
      "구매여부        0.0   1.0  0.0  1.0\n",
      "스테이지 구분                        \n",
      "0        8251.0   NaN  0.0  NaN\n",
      "10~14    5578.0  14.0  0.0  0.0\n",
      "15~19    2069.0  14.0  0.0  0.0\n",
      "1~5      4565.0   1.0  0.0  0.0\n",
      "20~      2736.0  49.0  0.0  0.0\n",
      "6~9      1718.0   3.0  0.0  0.0\n",
      "             18                           \n",
      "          count            mean           \n",
      "구매여부        0.0   1.0       0.0        1.0\n",
      "스테이지 구분                                   \n",
      "0        8251.0   NaN  0.000000        NaN\n",
      "10~14    5578.0  14.0  0.111151   4.285714\n",
      "15~19    2069.0  14.0  0.256162   1.428571\n",
      "1~5      4565.0   1.0  0.002191   0.000000\n",
      "20~      2736.0  49.0  0.902778  18.367347\n",
      "6~9      1718.0   3.0  0.023283   0.000000\n",
      "             19                           \n",
      "          count            mean           \n",
      "구매여부        0.0   1.0       0.0        1.0\n",
      "스테이지 구분                                   \n",
      "0        8251.0   NaN  0.000000        NaN\n",
      "10~14    5578.0  14.0  0.006275  37.500000\n",
      "15~19    2069.0  14.0  4.499758  27.500000\n",
      "1~5      4565.0   1.0  0.000000   0.000000\n",
      "20~      2736.0  49.0  6.536915  23.571429\n",
      "6~9      1718.0   3.0  0.000000  11.666667\n",
      "             20                            \n",
      "          count            mean            \n",
      "구매여부        0.0   1.0       0.0         1.0\n",
      "스테이지 구분                                    \n",
      "0        8251.0   NaN  0.000970         NaN\n",
      "10~14    5578.0  14.0  0.371639   11.214286\n",
      "15~19    2069.0  14.0  1.296278    2.857143\n",
      "1~5      4565.0   1.0  0.014896    0.000000\n",
      "20~      2736.0  49.0  3.754751  406.285714\n",
      "6~9      1718.0   3.0  0.128638   19.333333\n"
     ]
    }
   ],
   "source": [
    "#  \"스테이지 구분\" 및 \"구매여부\"에 따라 루비의 각 소비처별로 루비를 사용한 유저수(count), 평균 사용량(mean)\n",
    "for i in [15,16,17,18,19,20]:\n",
    "    a=data.groupby(['스테이지 구분','구매여부']).agg({i:{'count':'count','mean':'mean'}}).unstack()\n",
    "    print(a)"
   ]
  },
  {
   "cell_type": "markdown",
   "metadata": {},
   "source": [
    "**4. \"스테이지 구분\" 별 불꽃 평균 사용량 분포를 그래프로 표현해주세요.**"
   ]
  },
  {
   "cell_type": "code",
   "execution_count": 41,
   "metadata": {},
   "outputs": [],
   "source": [
    "fire=data[['스테이지 구분',14]]"
   ]
  },
  {
   "cell_type": "code",
   "execution_count": 42,
   "metadata": {
    "scrolled": false
   },
   "outputs": [
    {
     "data": {
      "text/html": [
       "<div>\n",
       "<style scoped>\n",
       "    .dataframe tbody tr th:only-of-type {\n",
       "        vertical-align: middle;\n",
       "    }\n",
       "\n",
       "    .dataframe tbody tr th {\n",
       "        vertical-align: top;\n",
       "    }\n",
       "\n",
       "    .dataframe thead th {\n",
       "        text-align: right;\n",
       "    }\n",
       "</style>\n",
       "<table border=\"1\" class=\"dataframe\">\n",
       "  <thead>\n",
       "    <tr style=\"text-align: right;\">\n",
       "      <th></th>\n",
       "      <th>스테이지 구분</th>\n",
       "      <th>sum</th>\n",
       "      <th>mean</th>\n",
       "    </tr>\n",
       "  </thead>\n",
       "  <tbody>\n",
       "    <tr>\n",
       "      <th>0</th>\n",
       "      <td>0</td>\n",
       "      <td>644</td>\n",
       "      <td>0.078051</td>\n",
       "    </tr>\n",
       "    <tr>\n",
       "      <th>1</th>\n",
       "      <td>1~5</td>\n",
       "      <td>16854</td>\n",
       "      <td>3.691196</td>\n",
       "    </tr>\n",
       "    <tr>\n",
       "      <th>2</th>\n",
       "      <td>6~9</td>\n",
       "      <td>17027</td>\n",
       "      <td>9.893666</td>\n",
       "    </tr>\n",
       "    <tr>\n",
       "      <th>3</th>\n",
       "      <td>10~14</td>\n",
       "      <td>72483</td>\n",
       "      <td>12.961910</td>\n",
       "    </tr>\n",
       "    <tr>\n",
       "      <th>4</th>\n",
       "      <td>15~19</td>\n",
       "      <td>43091</td>\n",
       "      <td>20.686990</td>\n",
       "    </tr>\n",
       "    <tr>\n",
       "      <th>5</th>\n",
       "      <td>20~</td>\n",
       "      <td>99067</td>\n",
       "      <td>35.571634</td>\n",
       "    </tr>\n",
       "  </tbody>\n",
       "</table>\n",
       "</div>"
      ],
      "text/plain": [
       "  스테이지 구분    sum       mean\n",
       "0       0    644   0.078051\n",
       "1     1~5  16854   3.691196\n",
       "2     6~9  17027   9.893666\n",
       "3   10~14  72483  12.961910\n",
       "4   15~19  43091  20.686990\n",
       "5     20~  99067  35.571634"
      ]
     },
     "execution_count": 42,
     "metadata": {},
     "output_type": "execute_result"
    }
   ],
   "source": [
    "# '스테이지 구분'별 불꽃 평균 사용량 차트 생성\n",
    "fire=fire.groupby(['스테이지 구분']).agg({14:{'sum':'sum','mean':'mean'}}).reset_index()\n",
    "fire=fire.reindex([0,3,5,1,2,4])\n",
    "fire.index = range(len(fire))\n",
    "fire.columns=['스테이지 구분','sum','mean']\n",
    "fire"
   ]
  },
  {
   "cell_type": "code",
   "execution_count": 43,
   "metadata": {},
   "outputs": [
    {
     "data": {
      "image/png": "[encoded data removed]",
      "text/plain": [
       "<Figure size 432x288 with 1 Axes>"
      ]
     },
     "metadata": {
      "needs_background": "light"
     },
     "output_type": "display_data"
    }
   ],
   "source": [
    "# \"스테이지 구분\" 별 불꽃 평균 사용량 분포를 그래프\n",
    "y_pos = np.arange(len(fire['스테이지 구분']))\n",
    "a=fire['mean']\n",
    "plt.bar(y_pos,a, color=(0.1, 0.1, 0.1, 0.1),  edgecolor='blue')\n",
    "plt.xticks(y_pos,fire['스테이지 구분'])\n",
    "# barplot 위에 각각 레이블 만들기\n",
    "label = [0.09, 3.51, 9.66, 12.97, 20.51, 38.23]\n",
    "for i in range(len(y_pos)):\n",
    "    plt.text(x = y_pos[i]-0.2 , y = a[i]+0.3, s = label[i], size = 10)"
   ]
  },
  {
   "cell_type": "markdown",
   "metadata": {},
   "source": [
    "**5. \"스테이지 구분\" 별 획득한 불꽃을 모두 다 사용한 유저수를 계산해주세요.**"
   ]
  },
  {
   "cell_type": "markdown",
   "metadata": {},
   "source": [
    "* 13: 획득한 불꽃 총 개수\n",
    "* 14: 사용한 불꽃 총 개수"
   ]
  },
  {
   "cell_type": "code",
   "execution_count": 44,
   "metadata": {
    "scrolled": true
   },
   "outputs": [
    {
     "data": {
      "text/html": [
       "<div>\n",
       "<style scoped>\n",
       "    .dataframe tbody tr th:only-of-type {\n",
       "        vertical-align: middle;\n",
       "    }\n",
       "\n",
       "    .dataframe tbody tr th {\n",
       "        vertical-align: top;\n",
       "    }\n",
       "\n",
       "    .dataframe thead th {\n",
       "        text-align: right;\n",
       "    }\n",
       "</style>\n",
       "<table border=\"1\" class=\"dataframe\">\n",
       "  <thead>\n",
       "    <tr style=\"text-align: right;\">\n",
       "      <th></th>\n",
       "      <th>스테이지 구분</th>\n",
       "      <th>13</th>\n",
       "      <th>14</th>\n",
       "    </tr>\n",
       "  </thead>\n",
       "  <tbody>\n",
       "    <tr>\n",
       "      <th>0</th>\n",
       "      <td>20~</td>\n",
       "      <td>41</td>\n",
       "      <td>41</td>\n",
       "    </tr>\n",
       "    <tr>\n",
       "      <th>50</th>\n",
       "      <td>15~19</td>\n",
       "      <td>26</td>\n",
       "      <td>26</td>\n",
       "    </tr>\n",
       "    <tr>\n",
       "      <th>64</th>\n",
       "      <td>15~19</td>\n",
       "      <td>25</td>\n",
       "      <td>25</td>\n",
       "    </tr>\n",
       "    <tr>\n",
       "      <th>75</th>\n",
       "      <td>15~19</td>\n",
       "      <td>32</td>\n",
       "      <td>32</td>\n",
       "    </tr>\n",
       "    <tr>\n",
       "      <th>79</th>\n",
       "      <td>20~</td>\n",
       "      <td>49</td>\n",
       "      <td>49</td>\n",
       "    </tr>\n",
       "  </tbody>\n",
       "</table>\n",
       "</div>"
      ],
      "text/plain": [
       "   스테이지 구분  13  14\n",
       "0      20~  41  41\n",
       "50   15~19  26  26\n",
       "64   15~19  25  25\n",
       "75   15~19  32  32\n",
       "79     20~  49  49"
      ]
     },
     "execution_count": 44,
     "metadata": {},
     "output_type": "execute_result"
    }
   ],
   "source": [
    "# 획득한 불꽃 총개수와 사용한 불꽃 총 개수가 같은 사람들 스테이지 구분별 추출\n",
    "a=data[['스테이지 구분',13,14]]\n",
    "a=a.loc[a[13] != 0]\n",
    "a=a[a[13]-a[14]==0][['스테이지 구분',13,14]]\n",
    "a.head()"
   ]
  },
  {
   "cell_type": "code",
   "execution_count": 45,
   "metadata": {},
   "outputs": [
    {
     "data": {
      "text/html": [
       "<div>\n",
       "<style scoped>\n",
       "    .dataframe tbody tr th:only-of-type {\n",
       "        vertical-align: middle;\n",
       "    }\n",
       "\n",
       "    .dataframe tbody tr th {\n",
       "        vertical-align: top;\n",
       "    }\n",
       "\n",
       "    .dataframe thead th {\n",
       "        text-align: right;\n",
       "    }\n",
       "</style>\n",
       "<table border=\"1\" class=\"dataframe\">\n",
       "  <thead>\n",
       "    <tr style=\"text-align: right;\">\n",
       "      <th></th>\n",
       "      <th>스테이지 구분</th>\n",
       "      <th>counts</th>\n",
       "    </tr>\n",
       "  </thead>\n",
       "  <tbody>\n",
       "    <tr>\n",
       "      <th>0</th>\n",
       "      <td>0</td>\n",
       "      <td>9</td>\n",
       "    </tr>\n",
       "    <tr>\n",
       "      <th>1</th>\n",
       "      <td>1~5</td>\n",
       "      <td>398</td>\n",
       "    </tr>\n",
       "    <tr>\n",
       "      <th>2</th>\n",
       "      <td>6~9</td>\n",
       "      <td>334</td>\n",
       "    </tr>\n",
       "    <tr>\n",
       "      <th>3</th>\n",
       "      <td>10~14</td>\n",
       "      <td>363</td>\n",
       "    </tr>\n",
       "    <tr>\n",
       "      <th>4</th>\n",
       "      <td>15~19</td>\n",
       "      <td>525</td>\n",
       "    </tr>\n",
       "    <tr>\n",
       "      <th>5</th>\n",
       "      <td>20~</td>\n",
       "      <td>978</td>\n",
       "    </tr>\n",
       "  </tbody>\n",
       "</table>\n",
       "</div>"
      ],
      "text/plain": [
       "  스테이지 구분  counts\n",
       "0       0       9\n",
       "1     1~5     398\n",
       "2     6~9     334\n",
       "3   10~14     363\n",
       "4   15~19     525\n",
       "5     20~     978"
      ]
     },
     "execution_count": 45,
     "metadata": {},
     "output_type": "execute_result"
    }
   ],
   "source": [
    "# \"스테이지 구분\" 별 획득한 불꽃을 모두 다 사용한 유저수를 계산\n",
    "users=a.groupby('스테이지 구분')[13].count().reset_index(name='counts')\n",
    "users=users.reindex([0,3,5,1,2,4])\n",
    "users.index = range(len(users))\n",
    "users"
   ]
  },
  {
   "cell_type": "markdown",
   "metadata": {},
   "source": [
    "**6. \"스테이지 구분\" 별 획득한 불꽃을 모두 다 사용한 유저 중 루비로 불꽃을 충전한 유저수를 계산해주세요.**"
   ]
  },
  {
   "cell_type": "markdown",
   "metadata": {},
   "source": [
    "* 18: 불꽃 충전에 사용한 루비량"
   ]
  },
  {
   "cell_type": "code",
   "execution_count": 46,
   "metadata": {},
   "outputs": [
    {
     "data": {
      "text/html": [
       "<div>\n",
       "<style scoped>\n",
       "    .dataframe tbody tr th:only-of-type {\n",
       "        vertical-align: middle;\n",
       "    }\n",
       "\n",
       "    .dataframe tbody tr th {\n",
       "        vertical-align: top;\n",
       "    }\n",
       "\n",
       "    .dataframe thead th {\n",
       "        text-align: right;\n",
       "    }\n",
       "</style>\n",
       "<table border=\"1\" class=\"dataframe\">\n",
       "  <thead>\n",
       "    <tr style=\"text-align: right;\">\n",
       "      <th></th>\n",
       "      <th>스테이지 구분</th>\n",
       "      <th>13</th>\n",
       "      <th>14</th>\n",
       "      <th>18</th>\n",
       "    </tr>\n",
       "  </thead>\n",
       "  <tbody>\n",
       "    <tr>\n",
       "      <th>240</th>\n",
       "      <td>20~</td>\n",
       "      <td>50</td>\n",
       "      <td>50</td>\n",
       "      <td>10</td>\n",
       "    </tr>\n",
       "    <tr>\n",
       "      <th>480</th>\n",
       "      <td>20~</td>\n",
       "      <td>38</td>\n",
       "      <td>38</td>\n",
       "      <td>10</td>\n",
       "    </tr>\n",
       "    <tr>\n",
       "      <th>662</th>\n",
       "      <td>20~</td>\n",
       "      <td>58</td>\n",
       "      <td>58</td>\n",
       "      <td>20</td>\n",
       "    </tr>\n",
       "    <tr>\n",
       "      <th>1156</th>\n",
       "      <td>20~</td>\n",
       "      <td>78</td>\n",
       "      <td>78</td>\n",
       "      <td>20</td>\n",
       "    </tr>\n",
       "    <tr>\n",
       "      <th>1874</th>\n",
       "      <td>20~</td>\n",
       "      <td>53</td>\n",
       "      <td>53</td>\n",
       "      <td>10</td>\n",
       "    </tr>\n",
       "  </tbody>\n",
       "</table>\n",
       "</div>"
      ],
      "text/plain": [
       "     스테이지 구분  13  14  18\n",
       "240      20~  50  50  10\n",
       "480      20~  38  38  10\n",
       "662      20~  58  58  20\n",
       "1156     20~  78  78  20\n",
       "1874     20~  53  53  10"
      ]
     },
     "execution_count": 46,
     "metadata": {},
     "output_type": "execute_result"
    }
   ],
   "source": [
    "# 획득한 불꽃 총개수와 사용한 불꽃 총 개수가 같은 사람들 스테이지 구분별 \n",
    "# + 뿔꽃 충전에 사용한 루비량이 있는 유저들만 추출\n",
    "a=data[['스테이지 구분',13,14,18]]\n",
    "a=a.loc[a[13] != 0]\n",
    "a=a[a[13]-a[14]==0][['스테이지 구분',13,14,18]]\n",
    "a=a.loc[a[18] != 0]\n",
    "a.head()"
   ]
  },
  {
   "cell_type": "code",
   "execution_count": 47,
   "metadata": {},
   "outputs": [
    {
     "data": {
      "text/html": [
       "<div>\n",
       "<style scoped>\n",
       "    .dataframe tbody tr th:only-of-type {\n",
       "        vertical-align: middle;\n",
       "    }\n",
       "\n",
       "    .dataframe tbody tr th {\n",
       "        vertical-align: top;\n",
       "    }\n",
       "\n",
       "    .dataframe thead th {\n",
       "        text-align: right;\n",
       "    }\n",
       "</style>\n",
       "<table border=\"1\" class=\"dataframe\">\n",
       "  <thead>\n",
       "    <tr style=\"text-align: right;\">\n",
       "      <th></th>\n",
       "      <th>스테이지 구분</th>\n",
       "      <th>counts</th>\n",
       "    </tr>\n",
       "  </thead>\n",
       "  <tbody>\n",
       "    <tr>\n",
       "      <th>0</th>\n",
       "      <td>6~9</td>\n",
       "      <td>1</td>\n",
       "    </tr>\n",
       "    <tr>\n",
       "      <th>1</th>\n",
       "      <td>10~14</td>\n",
       "      <td>10</td>\n",
       "    </tr>\n",
       "    <tr>\n",
       "      <th>2</th>\n",
       "      <td>15~19</td>\n",
       "      <td>18</td>\n",
       "    </tr>\n",
       "    <tr>\n",
       "      <th>3</th>\n",
       "      <td>20~</td>\n",
       "      <td>97</td>\n",
       "    </tr>\n",
       "  </tbody>\n",
       "</table>\n",
       "</div>"
      ],
      "text/plain": [
       "  스테이지 구분  counts\n",
       "0     6~9       1\n",
       "1   10~14      10\n",
       "2   15~19      18\n",
       "3     20~      97"
      ]
     },
     "execution_count": 47,
     "metadata": {},
     "output_type": "execute_result"
    }
   ],
   "source": [
    "# \"스테이지 구분\" 별 획득한 불꽃을 모두 다 사용한 유저 중 루비로 불꽃을 충전한 유저수\n",
    "users=a.groupby(['스테이지 구분'])[18].count().reset_index(name='counts')\n",
    "users=users.reindex([3,0,1,2])\n",
    "users.index = range(len(users))\n",
    "users"
   ]
  },
  {
   "cell_type": "markdown",
   "metadata": {},
   "source": [
    "**7. D+14일차 접속여부를 '장기접속율' 이라고 명명할 때, '장기접속율'에 영향을 주는 변수를 계산해 주세요**\n",
    "  \n",
    "  - 샘플데이터가 변형과 생략을 거쳤기 때문에, 정답이 없습니다. 부담없이 진행해주세요.\n",
    "  - 방법론은 무엇이든 무관하며, 방법론은 2개를 비교하여, 더 정확도가 높다고 생각하는 방법론으로 진행해주세요 (최대 2개까지만 비교)\n",
    "  - 비교한 2개의 방법론들이 무엇인지\n",
    "  - 최종 방법론을 채택하게 된 이유\n",
    "  - 변수를 영향력이 높은 순으로 나열 (도식화)\n",
    "  - 도출된 결과를 토대로 장기접속율을 올리기 위한 방법에 대한 제언\n",
    "  "
   ]
  },
  {
   "cell_type": "markdown",
   "metadata": {},
   "source": [
    "#### 사용한 모델\n",
    "* Logistic Regression (최종 선택)\n",
    "* Xgboost"
   ]
  },
  {
   "cell_type": "code",
   "execution_count": 48,
   "metadata": {
    "scrolled": true
   },
   "outputs": [],
   "source": [
    "# data 다시 불러오기\n",
    "data = pd.read_csv(\"line_studio_nru_data.csv\", sep=\",\", header=None)\n",
    "data.columns=[1,2,3,4,5,6,7,8,9,10,11,12,13,14,15,16,17,18,19,20,21,22]\n",
    "# data 2는 가변수가 너무 많아져 제외, 21은 구매 품목명이므로 제외, 22는 na값이 너무 많아서 제외\n",
    "data=data.drop([2,21,22],axis=1)\n",
    "# NA 값 제거\n",
    "data=data.dropna(subset=[11])"
   ]
  },
  {
   "cell_type": "code",
   "execution_count": 49,
   "metadata": {},
   "outputs": [],
   "source": [
    "# 가변수 생성하기\n",
    "# 1: os 타입\n",
    "# 3: 로그인 타입\n",
    "# 국가 타입도 가변수 만들시 모델 score가 올라가나 과적합의 염려로 제외\n",
    "df = pd.get_dummies(data, columns=[1,3], drop_first=True)"
   ]
  },
  {
   "cell_type": "code",
   "execution_count": 50,
   "metadata": {
    "scrolled": false
   },
   "outputs": [
    {
     "data": {
      "text/plain": [
       "array([4, 5, 6, 7, 8, 9, 10, 11, 12, 13, 14, 15, 16, 17, 18, 19, 20,\n",
       "       '1_iOS', '3_LINE'], dtype=object)"
      ]
     },
     "execution_count": 50,
     "metadata": {},
     "output_type": "execute_result"
    }
   ],
   "source": [
    "df.columns.values"
   ]
  },
  {
   "cell_type": "code",
   "execution_count": 51,
   "metadata": {},
   "outputs": [],
   "source": [
    "# Train, Test 데이터 나누기 (8:2)\n",
    "Y=df[10] \n",
    "X=df[[4, 5, 6, 7, 8, 9, 11, 12, 13, 14, 15, 16, 17, 18, 19, 20,\n",
    "       '1_iOS', '3_LINE']]\n",
    "# X,Y의 각각 train, test 데이터 생성\n",
    "X_train, X_test, Y_train, Y_test = train_test_split(X, Y, test_size=0.2)"
   ]
  },
  {
   "cell_type": "markdown",
   "metadata": {},
   "source": [
    "#### LogisticRegression\n",
    "\n",
    "- Y: D+14일차 접속여부 (0,1) \n",
    "- X: 4, 5, 6, 7, 8, 9, 11, 12, 13, 14, 15, 16, 17, 18, 19, 20,'1_iOS', '3_LINE'\n",
    "\n",
    "이진데이터를 예측하는 일이기 때문에 상관분석(연속형)을 쓸 수 없다.\n",
    "Logistic Regression은 Y가 범주형 변수를 다루고\n",
    "X측에 연속형 예측변수, 범주형 예측변수를 사용할 수 있기 때문에 적절하다고 할 수 있다. "
   ]
  },
  {
   "cell_type": "code",
   "execution_count": 52,
   "metadata": {
    "scrolled": true
   },
   "outputs": [
    {
     "data": {
      "text/plain": [
       "0.9012704174228675"
      ]
     },
     "execution_count": 52,
     "metadata": {},
     "output_type": "execute_result"
    }
   ],
   "source": [
    "# LogisticRegression\n",
    "logmodel = LogisticRegression()\n",
    "# 모델 성능평가\n",
    "logmodel.fit(X_train,Y_train)\n",
    "logmodel.score(X_test, Y_test)"
   ]
  },
  {
   "cell_type": "code",
   "execution_count": 53,
   "metadata": {
    "scrolled": false
   },
   "outputs": [
    {
     "data": {
      "text/plain": [
       "array([[ 3.59559075e-01,  2.95798776e-01,  6.48329654e-01,\n",
       "         1.19714656e+00,  1.11409576e+00,  1.94301711e+00,\n",
       "         1.67719574e-04,  1.85433821e-03, -4.73281337e-03,\n",
       "         9.83329474e-03, -9.11179659e-03,  6.28000568e-03,\n",
       "        -6.61300487e-03, -6.67274375e-03, -1.39488458e-03,\n",
       "         4.16215298e-04,  7.93459696e-02,  4.37950019e-01]])"
      ]
     },
     "execution_count": 53,
     "metadata": {},
     "output_type": "execute_result"
    }
   ],
   "source": [
    "# LogisticRegression 모델 Coefficient 값 \n",
    "parameters = logmodel.coef_\n",
    "parameters"
   ]
  },
  {
   "cell_type": "code",
   "execution_count": 54,
   "metadata": {
    "scrolled": true
   },
   "outputs": [
    {
     "name": "stdout",
     "output_type": "stream",
     "text": [
      "0.359559075 0.295798776 0.648329654 1.19714656 1.11409576 1.94301711 0.000167719574 0.00185433821 -0.00473281337 0.00983329474 -0.00911179659 0.00628000568 -0.00661300487 -0.00667274375 -0.00139488458 0.000416215298 0.0793459696 0.437950019\n"
     ]
    }
   ],
   "source": [
    "# Coefficient 값 'e-##' 정리\n",
    "print(3.59559075e-01,  2.95798776e-01,  6.48329654e-01,\n",
    "         1.19714656e+00,  1.11409576e+00,  1.94301711e+00,\n",
    "         1.67719574e-04,  1.85433821e-03, -4.73281337e-03,\n",
    "         9.83329474e-03, -9.11179659e-03,  6.28000568e-03,\n",
    "        -6.61300487e-03, -6.67274375e-03, -1.39488458e-03,\n",
    "         4.16215298e-04,  7.93459696e-02,  4.37950019e-01)"
   ]
  },
  {
   "cell_type": "markdown",
   "metadata": {},
   "source": [
    "### LogisticRegression: D+14일차(Y) 영향력이 높은 변수순(X)\n",
    "\n",
    "순위 | 변수 | Coefficient\n",
    "----|-------------|--------------\n",
    "1 | 변수9 (D+11) | 1.9430\n",
    "2 | 변수7 (D+7) | 1.1971\n",
    "3 | 변수8 (D+9) | 1.1141\n",
    "4 | 변수6 (D+5) | 0.6483\n",
    "5 | 로그인 타입 (L*) | 0.4379\n",
    "6 | 변수4(D+1) | 0.3596\n",
    "7 | 변수5 (D+3) | 0.2958\n",
    "\n",
    "- D+ 접속여부가 가장 많은 영향력을 주는 것으로 보아 계속 들어온 사람이 앞으로도 많이 들어올 확률이 크다는 것을 알 수 있다. \n",
    "- 로지스틱 회귀분석에서 '로그인 타입'이 '접속여부' 다음으로 크게 Y에 영향을 준다. 따라서 Guest보단 L*을 통해 들어온 사람들이 더 오래 게임을 한다는 것을 알 수 있다. \n",
    "- 장기접속율을 올리기 위해서는 우선적으로 L* 유저들을 공략하는 것이 좋고, 우선적으로 많은 사람들에게 홍보를 통해 신규가입자수를 늘리는 것이 장기접속율을 높일 수 있는 가장 보편적인 방법이다. "
   ]
  },
  {
   "cell_type": "markdown",
   "metadata": {},
   "source": [
    "#### Xgboost \n",
    "\n",
    "- Y: D+14일차 접속여부 (0,1) \n",
    "- X: 4, 5, 6, 7, 8, 9, 11, 12, 13, 14, 15, 16, 17, 18, 19, 20, '1_iOS', '3_LINE'\n",
    "\n",
    "앙상블 방법론 또한 Y가 범주형 변수를 예측할 수 있고\n",
    "X측에 연속형 예측변수, 범주형 예측변수를 이용할 수 있기 때문에 적절하다고 할 수 있다. \n",
    "앙상블 방법론 중에서도 Xgboost를 이용하였다. 약한 예측모형들을 결함하여 강한 예측 모형을 만드는 알고리즘으로 이용할 수 있는 모델이기에 좋은 적합도를 낼 것으로 기대되어 사용하였다."
   ]
  },
  {
   "cell_type": "code",
   "execution_count": 55,
   "metadata": {
    "scrolled": true
   },
   "outputs": [
    {
     "data": {
      "text/plain": [
       "0.6059601814632156"
      ]
     },
     "execution_count": 55,
     "metadata": {},
     "output_type": "execute_result"
    }
   ],
   "source": [
    "# 의사결정나무 모델 하나인 XGBoost 모델 이용\n",
    "xgb = XGBRegressor(n_estimators=98, \n",
    "                   learning_rate=0.05,\n",
    "                   max_depth=3, \n",
    "                   max_features='auto',\n",
    "                   min_samples_leaf=5,\n",
    "                   min_samples_split=10, \n",
    "                   warm_start = False, \n",
    "                   loss='ls',\n",
    "                   random_state=10)\n",
    "\n",
    "xgb.fit(X_train,Y_train)\n",
    "xgb.score(X_test,Y_test)"
   ]
  },
  {
   "cell_type": "code",
   "execution_count": 56,
   "metadata": {
    "scrolled": false
   },
   "outputs": [
    {
     "data": {
      "text/plain": [
       "array([0.00339262, 0.00429899, 0.01376886, 0.0595508 , 0.05732919,\n",
       "       0.8431735 , 0.00228587, 0.00326538, 0.00151938, 0.0023495 ,\n",
       "       0.00133144, 0.00097017, 0.        , 0.00098669, 0.00116403,\n",
       "       0.00162901, 0.00101619, 0.00196832], dtype=float32)"
      ]
     },
     "execution_count": 56,
     "metadata": {},
     "output_type": "execute_result"
    }
   ],
   "source": [
    "parameters = xgb.feature_importances_\n",
    "parameters"
   ]
  },
  {
   "cell_type": "markdown",
   "metadata": {},
   "source": [
    "###  XGBoost: D+14일차(Y) 영향력이 높은 변수순(X)\n",
    "\n",
    "순위 | 변수 | Feature importances\n",
    "----|-------------|--------------\n",
    "1 | 변수9 (D+11) | 0.84317\n",
    "2 | 변수7 (D+7) | 0.05955\n",
    "3 | 변수8 (D+9) | 0.05733\n",
    "4 | 변수6 (D+5) | 0.01377\n",
    "5 | 변수5 (D+3) | 0.00429\n",
    "6 | 변수4 (D+1) | 0.00339\n",
    "7 | 변수12 (마지막으로 도전한 스테이지) | 0.00327\n",
    "\n",
    "- XGBosst도 마찬가지로 D+ 접속여부가 가장 많은 영향력을 주는 것을 알 수 있다. \n",
    "- 여기서는 접속여부 다음으로 '마지막으로 도전한 스테이지'가 Y에 영향력을 주는 것을 알 수 있다. "
   ]
  },
  {
   "cell_type": "code",
   "execution_count": 57,
   "metadata": {},
   "outputs": [
    {
     "data": {
      "text/plain": [
       "array(['Android', 'iOS'], dtype=object)"
      ]
     },
     "execution_count": 57,
     "metadata": {},
     "output_type": "execute_result"
    }
   ],
   "source": [
    "data[1].unique()"
   ]
  },
  {
   "cell_type": "markdown",
   "metadata": {},
   "source": [
    "###  Score 값이 Logistic Regression(0.901)이 더 높으므로 Logistic Regression 모델을 쓰는 것이 더 좋다.\n",
    "\n",
    "- 장기접속율을 올리기 위해서는 우선적으로 Line 유저들을 공략하는 것이 좋고, 우선적으로 많은 사람들에게 홍보를 통해 신규가입자수를 늘리는 것이 장기접속율을 높일 수 있는 가장 보편적인 방법이다.\n",
    "- 계수값이 작게 나오긴 했지만 높은 변수순 8위로 'os타입'(0.07934) 영향력이 있다. 이 것을 보아 Android 보다 ios이용자가 좀 더 장기접속자가 많다는 것을 알 수 있다. 따라서 iphone을 더 많이 이용하는 나라가 게임 유저가 많은지를 조사하는 것도 새로운 정보를 얻을 수 있는 기반이 될 수 있다."
   ]
  }
 ],
 "metadata": {
  "kernelspec": {
   "display_name": "Python 3",
   "language": "python",
   "name": "python3"
  },
  "language_info": {
   "codemirror_mode": {
    "name": "ipython",
    "version": 3
   },
   "file_extension": ".py",
   "mimetype": "text/x-python",
   "name": "python",
   "nbconvert_exporter": "python",
   "pygments_lexer": "ipython3",
   "version": "3.6.6"
  }
 },
 "nbformat": 4,
 "nbformat_minor": 2
}
